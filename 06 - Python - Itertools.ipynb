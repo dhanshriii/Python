{
 "cells": [
  {
   "cell_type": "markdown",
   "id": "a4a457f2",
   "metadata": {},
   "source": [
    "## Zip Function\n"
   ]
  },
  {
   "cell_type": "code",
   "execution_count": 1,
   "id": "1763ad09",
   "metadata": {},
   "outputs": [
    {
     "name": "stdout",
     "output_type": "stream",
     "text": [
      "dada 9804\n",
      "mama 8976\n",
      "kaka 5688\n"
     ]
    }
   ],
   "source": [
    "#Use of zip Function\n",
    "#Whenever we want to iterate the data from two list we use zip function\n",
    "name = ['dada','mama','kaka']\n",
    "info = [9804, 8976, 5688]\n",
    "for nm, inf in zip(name,info):\n",
    "    print(nm, inf)"
   ]
  },
  {
   "cell_type": "code",
   "execution_count": 3,
   "id": "1c41d7f6",
   "metadata": {},
   "outputs": [
    {
     "name": "stdout",
     "output_type": "stream",
     "text": [
      "dada 9809\n",
      "mama 7865\n",
      "kaka 5432\n"
     ]
    }
   ],
   "source": [
    "#Drawback\n",
    "name = ['dada','mama','kaka','baba']\n",
    "info = [9809,7865,5432]\n",
    "for na, inf in zip(name,info):\n",
    "    print(na, inf)  #Dosent print the extra elements"
   ]
  },
  {
   "cell_type": "code",
   "execution_count": 4,
   "id": "5c32d52d",
   "metadata": {},
   "outputs": [
    {
     "name": "stdout",
     "output_type": "stream",
     "text": [
      "dada 9809\n",
      "mama 7865\n",
      "kaka 5432\n",
      "baba None\n"
     ]
    }
   ],
   "source": [
    "#To overcome this we use zip_longest\n",
    "#Initially we have to import it from itertools\n",
    "#Example\n",
    "from itertools import zip_longest\n",
    "name = ['dada','mama','kaka','baba']\n",
    "info = [9809,7865,5432]\n",
    "for na, inf in zip_longest(name, info):\n",
    "    print(na, inf)  \n",
    "#it takes care of the extra elements by telling that it has none value\n",
    "#we are going to use these zip function in NLP in web scrapping\n",
    "#machine learning models do not like these none or null values so we should fill these values\n"
   ]
  },
  {
   "cell_type": "code",
   "execution_count": 7,
   "id": "f19d6dc6",
   "metadata": {},
   "outputs": [
    {
     "name": "stdout",
     "output_type": "stream",
     "text": [
      "dada 9809\n",
      "mama 7865\n",
      "kaka 5432\n",
      "baba 0\n"
     ]
    }
   ],
   "source": [
    "#Use of fill value instead of none \n",
    "from itertools import zip_longest\n",
    "name = ['dada','mama','kaka','baba']\n",
    "info = [9809,7865,5432]\n",
    "for na, inf in zip_longest(name, info, fillvalue = 0): #IT is assigning zero value to extra elements\n",
    "    print(na, inf)\n",
    "#The accuracy increases by filling the NULL or none values"
   ]
  },
  {
   "cell_type": "markdown",
   "id": "d495a09a",
   "metadata": {},
   "source": [
    "## all() Function"
   ]
  },
  {
   "cell_type": "code",
   "execution_count": 8,
   "id": "3c921004",
   "metadata": {},
   "outputs": [
    {
     "name": "stdout",
     "output_type": "stream",
     "text": [
      "All values are true\n"
     ]
    }
   ],
   "source": [
    "#Use of all() : If all the values are true the it will produce output\n",
    "#If all the values are present in the list and there is no none or null value it gives the output\n",
    "#Example\n",
    "lst = [1,2,3,4,5]\n",
    "if all(lst):\n",
    "    print(\"All values are true\")\n",
    "else :\n",
    "    print(\"Useless\")"
   ]
  },
  {
   "cell_type": "code",
   "execution_count": 9,
   "id": "d9555764",
   "metadata": {},
   "outputs": [
    {
     "name": "stdout",
     "output_type": "stream",
     "text": [
      "Useless\n"
     ]
    }
   ],
   "source": [
    "#If we add some null or zero value\n",
    "lst = [1,2,3,4,0]\n",
    "if all(lst):\n",
    "    print(\"All values are true\")\n",
    "else:\n",
    "    print(\"Useless\")"
   ]
  },
  {
   "cell_type": "markdown",
   "id": "ec769169",
   "metadata": {},
   "source": [
    "## any() function"
   ]
  },
  {
   "cell_type": "code",
   "execution_count": 10,
   "id": "f538ad54",
   "metadata": {},
   "outputs": [
    {
     "name": "stdout",
     "output_type": "stream",
     "text": [
      "it has some value\n"
     ]
    }
   ],
   "source": [
    "#use of any() : \n",
    "#Use of any() function: if any one none zero present it will the output\n",
    "#example\n",
    "lst = [0,0,0,0,6]\n",
    "if any(lst):\n",
    "    print('it has some value')\n",
    "else:\n",
    "    print(\"useless\")#if all values are zero it dosent give the output \n"
   ]
  },
  {
   "cell_type": "markdown",
   "id": "2dfad0b4",
   "metadata": {},
   "source": [
    "## count() function"
   ]
  },
  {
   "cell_type": "code",
   "execution_count": 13,
   "id": "a723c904",
   "metadata": {},
   "outputs": [
    {
     "name": "stdout",
     "output_type": "stream",
     "text": [
      "0\n",
      "1\n",
      "2\n"
     ]
    }
   ],
   "source": [
    "#count()\n",
    "#It is another itertool\n",
    "#whenever we call count() a object is created\n",
    "#and then using next() we can access it\n",
    "#it counts like 0,1,2,3.............. after every next()\n",
    "from itertools import count\n",
    "counter = count()\n",
    "print(next(counter))\n",
    "print(next(counter))\n",
    "print(next(counter))"
   ]
  },
  {
   "cell_type": "code",
   "execution_count": 15,
   "id": "a1d8d926",
   "metadata": {},
   "outputs": [
    {
     "name": "stdout",
     "output_type": "stream",
     "text": [
      "1\n",
      "2\n"
     ]
    }
   ],
   "source": [
    "#As we saw that the iterartion started from 0 inorder to start it from 1 explicitly mention start=1\n",
    "#example\n",
    "counter = count(start = 1)\n",
    "print(next(counter))\n",
    "print(next(counter))"
   ]
  },
  {
   "cell_type": "markdown",
   "id": "ceeef872",
   "metadata": {},
   "source": [
    "## cycle() function and repeat() function"
   ]
  },
  {
   "cell_type": "code",
   "execution_count": 16,
   "id": "dc32be92",
   "metadata": {},
   "outputs": [],
   "source": [
    "#suppose you have a task to be done repeatedly the use this method\n"
   ]
  },
  {
   "cell_type": "code",
   "execution_count": 18,
   "id": "51c09bc4",
   "metadata": {},
   "outputs": [
    {
     "name": "stdout",
     "output_type": "stream",
     "text": [
      "Keep Patience\n",
      "Keep Patience\n",
      "Keep Patience\n"
     ]
    }
   ],
   "source": [
    "#Repeat()\n",
    "from itertools import repeat\n",
    "for msg in repeat(\"Keep Patience\",times = 3):\n",
    "    print(msg)"
   ]
  },
  {
   "cell_type": "markdown",
   "id": "11bac675",
   "metadata": {},
   "source": [
    "## combinations()"
   ]
  },
  {
   "cell_type": "code",
   "execution_count": 19,
   "id": "0bd67bb4",
   "metadata": {},
   "outputs": [
    {
     "name": "stdout",
     "output_type": "stream",
     "text": [
      "('john', 'jonny')\n",
      "('john', 'janardhan')\n",
      "('jonny', 'janardhan')\n"
     ]
    }
   ],
   "source": [
    "#combinations()\n",
    "#combination is a way of selecting items from a collection such that order of selection does not matter\n",
    "from itertools import combinations\n",
    "players = ['john','jonny','janardhan']\n",
    "for player in combinations(players, 2):#all possible combinations of 2 pairs of palyers\n",
    "    print(player)"
   ]
  },
  {
   "cell_type": "markdown",
   "id": "186847b7",
   "metadata": {},
   "source": [
    "## permutation "
   ]
  },
  {
   "cell_type": "code",
   "execution_count": 20,
   "id": "da131ac3",
   "metadata": {},
   "outputs": [
    {
     "name": "stdout",
     "output_type": "stream",
     "text": [
      "('john', 'jonny')\n",
      "('john', 'janardhan')\n",
      "('jonny', 'john')\n",
      "('jonny', 'janardhan')\n",
      "('janardhan', 'john')\n",
      "('janardhan', 'jonny')\n"
     ]
    }
   ],
   "source": [
    "#all posible ways of players of seating on chairs in pairs\n",
    "from itertools import permutations\n",
    "players = ['john','jonny','janardhan']\n",
    "for seat in permutations(players,2):#all possible combinations of 2 pairs of palyers\n",
    "    print(seat)"
   ]
  },
  {
   "cell_type": "markdown",
   "id": "bb484984",
   "metadata": {},
   "source": [
    "## product()"
   ]
  },
  {
   "cell_type": "code",
   "execution_count": 21,
   "id": "1e561673",
   "metadata": {},
   "outputs": [
    {
     "name": "stdout",
     "output_type": "stream",
     "text": [
      "('dhanshri', 'virat')\n",
      "('dhanshri', 'Rohit')\n",
      "('dhanshri', 'Dhoni')\n",
      "('vaishnavi', 'virat')\n",
      "('vaishnavi', 'Rohit')\n",
      "('vaishnavi', 'Dhoni')\n",
      "('khushi', 'virat')\n",
      "('khushi', 'Rohit')\n",
      "('khushi', 'Dhoni')\n"
     ]
    }
   ],
   "source": [
    "from itertools import product\n",
    "team1 = ['dhanshri','vaishnavi','khushi']\n",
    "team2 = ['virat','Rohit','Dhoni']\n",
    "for pair in product(team1,team2):#product is used to make pairs between two lists (unlike permutation) and not in a single list\n",
    "    print(pair)"
   ]
  },
  {
   "cell_type": "code",
   "execution_count": 22,
   "id": "a473d3c4",
   "metadata": {},
   "outputs": [
    {
     "name": "stdout",
     "output_type": "stream",
     "text": [
      "type of new iterator:\n",
      "<class 'itertools.chain'>\n"
     ]
    }
   ],
   "source": [
    "#write a python program to to create an iterator from sevaral iterators in a sequence and display the type and elements of the new iterator\n",
    "#use chain operator(chain())\n",
    "from itertools import chain\n",
    "def chain_func(lst1, lst2, lst3):\n",
    "    return chain(lst1, lst2, lst3)\n",
    "\n",
    "#list\n",
    "result = chain_func([1,2,3], ['a','b','c','d','e'], [4,5,6,7])\n",
    "print(\"type of new iterator:\")\n",
    "print(type(result))"
   ]
  },
  {
   "cell_type": "code",
   "execution_count": 23,
   "id": "a284e173",
   "metadata": {},
   "outputs": [
    {
     "name": "stdout",
     "output_type": "stream",
     "text": [
      "Elements of new iterator:\n",
      "1\n",
      "2\n",
      "3\n",
      "a\n",
      "b\n",
      "c\n",
      "d\n",
      "e\n",
      "4\n",
      "5\n",
      "6\n",
      "7\n"
     ]
    }
   ],
   "source": [
    "print(\"Elements of new iterator:\")\n",
    "for i in result:\n",
    "    print(i)"
   ]
  },
  {
   "cell_type": "code",
   "execution_count": 24,
   "id": "9b48c492",
   "metadata": {},
   "outputs": [
    {
     "name": "stdout",
     "output_type": "stream",
     "text": [
      "type of new iterator:\n",
      "<class 'itertools.chain'>\n",
      "Elements of new iterator:\n",
      "1\n",
      "2\n",
      "3\n",
      "a\n",
      "b\n",
      "c\n",
      "d\n",
      "e\n",
      "4\n",
      "5\n",
      "6\n",
      "7\n"
     ]
    }
   ],
   "source": [
    "result = chain_func((1,2,3), ('a','b','c','d','e'), (4,5,6,7))\n",
    "print(\"type of new iterator:\")\n",
    "print(type(result))\n",
    "print(\"Elements of new iterator:\")\n",
    "for i in result:\n",
    "    print(i)"
   ]
  },
  {
   "cell_type": "code",
   "execution_count": 25,
   "id": "26f1082a",
   "metadata": {},
   "outputs": [],
   "source": [
    "#write python program that generates the running product of elements in a iterable\n",
    "from itertools import accumulate\n",
    "import operator  #It has mathematical operators\n",
    "def running_product(lst):\n",
    "    return accumulate(lst, operator.mul)\n"
   ]
  },
  {
   "cell_type": "code",
   "execution_count": 26,
   "id": "9d6d54f4",
   "metadata": {},
   "outputs": [
    {
     "name": "stdout",
     "output_type": "stream",
     "text": [
      "the running product is: \n",
      "1\n",
      "2\n",
      "6\n",
      "24\n",
      "120\n",
      "720\n",
      "5040\n"
     ]
    }
   ],
   "source": [
    "#list\n",
    "result = running_product([1,2,3,4,5,6,7])\n",
    "print(\"the running product is: \")\n",
    "for i in result:\n",
    "    print(i)"
   ]
  },
  {
   "cell_type": "code",
   "execution_count": 27,
   "id": "5b041b0e",
   "metadata": {},
   "outputs": [
    {
     "name": "stdout",
     "output_type": "stream",
     "text": [
      "the running product is: \n",
      "1\n",
      "2\n",
      "6\n",
      "24\n",
      "120\n",
      "720\n",
      "5040\n"
     ]
    }
   ],
   "source": [
    "#tuple\n",
    "result = running_product((1,2,3,4,5,6,7))\n",
    "print(\"the running product is: \")\n",
    "for i in result:\n",
    "    print(i)\n",
    "    "
   ]
  },
  {
   "cell_type": "code",
   "execution_count": null,
   "id": "8262196b",
   "metadata": {},
   "outputs": [],
   "source": [
    "#write python program to construct a infinite iterator thst returns evenly spaced values \n",
    "#starting with specified number and steps\n",
    "import itertools as it\n",
    "start = 10\n",
    "step = 1\n",
    "print(\"the starting is \",start,\" and the step is \",step)\n",
    "my_counter= it.count(start,step)\n",
    "#following loop will run for ever\n",
    "print(\"the said function print never-ending items: \")\n",
    "for i in  my_counter:\n",
    "    print(i)"
   ]
  },
  {
   "cell_type": "code",
   "execution_count": 2,
   "id": "31a58cb5",
   "metadata": {},
   "outputs": [],
   "source": [
    "#write python program to generate infinite cycle of elements from an iterable\n",
    "import itertools as it\n",
    "def cycle_data(iter):\n",
    "    return it.cycle(iter)"
   ]
  },
  {
   "cell_type": "code",
   "execution_count": null,
   "id": "2200217e",
   "metadata": {},
   "outputs": [],
   "source": [
    "#following loops will run forever\n",
    "#list\n",
    "result = cycle_data(['A','B','C'])\n",
    "print(\"Infinite cycle loop is : \")\n",
    "for i in result:\n",
    "    print(i)"
   ]
  },
  {
   "cell_type": "code",
   "execution_count": null,
   "id": "d0094e4d",
   "metadata": {},
   "outputs": [],
   "source": [
    "#string\n",
    "result = cycle_data('python itertools')\n",
    "print(\"the said functions prints never ending loop: \")\n",
    "for i in result:\n",
    "    print(i)"
   ]
  },
  {
   "cell_type": "code",
   "execution_count": 1,
   "id": "9ae8c65b",
   "metadata": {},
   "outputs": [
    {
     "name": "stdout",
     "output_type": "stream",
     "text": [
      "original list:  [-1, -2, -3, -4, 5, -6, -7, -8, 9]\n",
      "Drop elements from the list when positive elements arises [5, -6, -7, -8, 9]\n"
     ]
    }
   ],
   "source": [
    "#write a python program to make an iterator that drops the element from the iterable as soon as an element is an positive number\n",
    "import itertools as it\n",
    "def drop_while(nums):\n",
    "    return it.dropwhile(lambda x : x<0, nums)\n",
    "nums = [-1,-2,-3,-4,5,-6,-7,-8,9]\n",
    "print(\"original list: \",nums)\n",
    "result = drop_while(nums)\n",
    "print(\"Drop elements from the list when positive elements arises\",list(result))\n"
   ]
  },
  {
   "cell_type": "code",
   "execution_count": null,
   "id": "af4a89ef",
   "metadata": {},
   "outputs": [],
   "source": []
  }
 ],
 "metadata": {
  "kernelspec": {
   "display_name": "Python 3 (ipykernel)",
   "language": "python",
   "name": "python3"
  },
  "language_info": {
   "codemirror_mode": {
    "name": "ipython",
    "version": 3
   },
   "file_extension": ".py",
   "mimetype": "text/x-python",
   "name": "python",
   "nbconvert_exporter": "python",
   "pygments_lexer": "ipython3",
   "version": "3.11.3"
  }
 },
 "nbformat": 4,
 "nbformat_minor": 5
}
