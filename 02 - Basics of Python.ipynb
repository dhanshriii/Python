{
 "cells": [
  {
   "cell_type": "markdown",
   "id": "42db51e6",
   "metadata": {},
   "source": [
    "## Conditional Statement and Loops"
   ]
  },
  {
   "cell_type": "code",
   "execution_count": 2,
   "id": "6cfb2ec5",
   "metadata": {},
   "outputs": [
    {
     "name": "stdout",
     "output_type": "stream",
     "text": [
      "Enter the marks :-098\n",
      "you are part of D batch\n"
     ]
    }
   ],
   "source": [
    "#Conditional statement\n",
    "\n",
    "marks = int(input(\"Enter the marks :\")) #Taking input from user using input function\n",
    "#the input() by default takes the string that why we typecasted it in int\n",
    "\n",
    "if marks >= 80 :\n",
    "    print(\"You are in A batch\")  #note the indentation\n",
    "    \n",
    "#If we want to add multiple condition we use elif (else if)\n",
    "elif marks >= 60 and marks < 80 :\n",
    "    print(\"You are part of B batch\")\n",
    "elif marks >= 40 and marks < 60 :\n",
    "    print(\"You are part of C batch\")\n",
    "    \n",
    "#If none of the above conditon is satisfied the else get executed\n",
    "else :\n",
    "    print(\"you are part of D batch\")"
   ]
  },
  {
   "cell_type": "code",
   "execution_count": 4,
   "id": "52e85d0b",
   "metadata": {},
   "outputs": [
    {
     "name": "stdout",
     "output_type": "stream",
     "text": [
      "Enter the price :50090\n",
      "I will not Purchase\n",
      "This is too much\n"
     ]
    }
   ],
   "source": [
    "price = int(input(\"Enter the price :\"))\n",
    "\n",
    "if price > 1000 :\n",
    "    print(\"I will not Purchase\")\n",
    "    if price > 5000 :               #If statement gets executed everytime\n",
    "        print(\"This is too much\")\n",
    "else :\n",
    "    print(\"I will purchase\")"
   ]
  },
  {
   "cell_type": "code",
   "execution_count": 5,
   "id": "1634ed1b",
   "metadata": {},
   "outputs": [],
   "source": [
    "#Loops\n",
    "\n",
    "l = [1, 2, 3, 4, 5, 6, 7]"
   ]
  },
  {
   "cell_type": "code",
   "execution_count": 6,
   "id": "db2bccd3",
   "metadata": {},
   "outputs": [
    {
     "name": "stdout",
     "output_type": "stream",
     "text": [
      "1\n",
      "2\n",
      "3\n",
      "4\n",
      "5\n",
      "6\n",
      "7\n"
     ]
    }
   ],
   "source": [
    "#Printing the values of the list\n",
    "for i in l:\n",
    "    print(i)"
   ]
  },
  {
   "cell_type": "code",
   "execution_count": 9,
   "id": "46b6936d",
   "metadata": {},
   "outputs": [
    {
     "data": {
      "text/plain": [
       "[2, 3, 4, 5, 6, 7, 8]"
      ]
     },
     "execution_count": 9,
     "metadata": {},
     "output_type": "execute_result"
    }
   ],
   "source": [
    "#Adding some value in each element of the list\n",
    "l1 = []\n",
    "for i in l:\n",
    "    l1.append(i+1)\n",
    "l1"
   ]
  },
  {
   "cell_type": "code",
   "execution_count": 12,
   "id": "283858fb",
   "metadata": {},
   "outputs": [
    {
     "data": {
      "text/plain": [
       "['DHANSHRI', 'DATA SCIENCE', 'COURSE']"
      ]
     },
     "execution_count": 12,
     "metadata": {},
     "output_type": "execute_result"
    }
   ],
   "source": [
    "#Lets make the words in upper case\n",
    "l3 = []\n",
    "l2 = [\"dhanshri\", \"data science\", \"course\"]\n",
    "for i in l2:\n",
    "    l3.append(i.upper())\n",
    "l3  "
   ]
  },
  {
   "cell_type": "code",
   "execution_count": 17,
   "id": "fa1e92dc",
   "metadata": {},
   "outputs": [
    {
     "name": "stdout",
     "output_type": "stream",
     "text": [
      "[1, 2, 3, 4, 4, 456]\n",
      "['Dhanshri', 'Data', 'abc']\n"
     ]
    }
   ],
   "source": [
    "#Seperate string and numbers\n",
    "l = [1,2,3,4,4,\"Dhanshri\",\"Data\",456,\"abc\"]\n",
    "l1 = []\n",
    "l2 = []\n",
    "\n",
    "for i in l:\n",
    "    if type(i) == int or type(i) == float:\n",
    "        l1.append(i)\n",
    "    else :\n",
    "        l2.append(i)\n",
    "print(l1)\n",
    "print(l2)\n"
   ]
  },
  {
   "cell_type": "code",
   "execution_count": 18,
   "id": "fedd0484",
   "metadata": {},
   "outputs": [
    {
     "name": "stdout",
     "output_type": "stream",
     "text": [
      "1\n",
      "2\n",
      "3\n",
      "dhanshri\n",
      "6\n",
      "if for loop is completed successfully then only else statement is executed\n"
     ]
    }
   ],
   "source": [
    "#for - else statement\n",
    "\n",
    "l1 = [1,2,3,'dhanshri',6]\n",
    "for i in l1:\n",
    "    print(i)\n",
    "    \n",
    "else :\n",
    "    print(\"if for loop is completed successfully then only else statement is executed\")\n",
    "    "
   ]
  },
  {
   "cell_type": "code",
   "execution_count": 20,
   "id": "522b90da",
   "metadata": {},
   "outputs": [
    {
     "name": "stdout",
     "output_type": "stream",
     "text": [
      "1\n",
      "2\n",
      "3\n"
     ]
    }
   ],
   "source": [
    "#Where not to use else statement\n",
    "for i in l1:\n",
    "    if i == \"dhanshri\":\n",
    "        break\n",
    "    print(i)\n",
    "else:\n",
    "    print(\"Result will not be displayed\")  #This is not printed as for loop is not completed successfully as break statement breaks the iteration\n",
    "    "
   ]
  },
  {
   "cell_type": "code",
   "execution_count": 22,
   "id": "39b7c26c",
   "metadata": {},
   "outputs": [
    {
     "name": "stdout",
     "output_type": "stream",
     "text": [
      "1\n",
      "2\n",
      "3\n",
      "6\n",
      "This will be printed as continue statement only skips the current iteration\n"
     ]
    }
   ],
   "source": [
    "for i in l1:\n",
    "    if i == \"dhanshri\":\n",
    "        continue\n",
    "    print(i)\n",
    "else :\n",
    "    print(\"This will be printed as continue statement only skips the current iteration\")"
   ]
  },
  {
   "cell_type": "code",
   "execution_count": 23,
   "id": "f8a8bd50",
   "metadata": {},
   "outputs": [
    {
     "data": {
      "text/plain": [
       "range(0, 5)"
      ]
     },
     "execution_count": 23,
     "metadata": {},
     "output_type": "execute_result"
    }
   ],
   "source": [
    "#Range function\n",
    "range(5)"
   ]
  },
  {
   "cell_type": "code",
   "execution_count": 24,
   "id": "fe1dad28",
   "metadata": {},
   "outputs": [
    {
     "data": {
      "text/plain": [
       "[0, 1, 2, 3, 4]"
      ]
     },
     "execution_count": 24,
     "metadata": {},
     "output_type": "execute_result"
    }
   ],
   "source": [
    "list(range(5))"
   ]
  },
  {
   "cell_type": "code",
   "execution_count": 25,
   "id": "3734d03a",
   "metadata": {},
   "outputs": [
    {
     "data": {
      "text/plain": [
       "[0, 2, 4]"
      ]
     },
     "execution_count": 25,
     "metadata": {},
     "output_type": "execute_result"
    }
   ],
   "source": [
    "list(range(0,5,2))  #range(start,end+1,step)"
   ]
  },
  {
   "cell_type": "code",
   "execution_count": 26,
   "id": "c0ca5c4b",
   "metadata": {},
   "outputs": [
    {
     "data": {
      "text/plain": [
       "[-10, -9, -8, -7, -6, -5, -4, -3, -2, -1]"
      ]
     },
     "execution_count": 26,
     "metadata": {},
     "output_type": "execute_result"
    }
   ],
   "source": [
    "list(range(-10,0))"
   ]
  },
  {
   "cell_type": "code",
   "execution_count": 33,
   "id": "5cac914a",
   "metadata": {},
   "outputs": [
    {
     "name": "stdout",
     "output_type": "stream",
     "text": [
      "6\n",
      "dhanshri\n",
      "3\n",
      "2\n",
      "1\n"
     ]
    }
   ],
   "source": [
    "#reversing the list using for loop\n",
    "for i in range(len(l1)-1,-1,-1):\n",
    "    print(l1[i])"
   ]
  },
  {
   "cell_type": "code",
   "execution_count": 39,
   "id": "a7b559c7",
   "metadata": {},
   "outputs": [
    {
     "name": "stdout",
     "output_type": "stream",
     "text": [
      "1\n",
      "2\n",
      "5\n",
      "34\n",
      "355\n",
      "65\n"
     ]
    }
   ],
   "source": [
    "#Printing data only from even index \n",
    "l2 = [1,4,2,3,5,6,34,566,355,64,65]\n",
    "for i in range(0, len(l2), 2):\n",
    "    print(l2[i])"
   ]
  },
  {
   "cell_type": "code",
   "execution_count": 2,
   "id": "161f1078",
   "metadata": {},
   "outputs": [
    {
     "name": "stdout",
     "output_type": "stream",
     "text": [
      "21\n"
     ]
    }
   ],
   "source": [
    "#Sum of the elemets in the list\n",
    "l1 = [1,2,3,4,5,6]\n",
    "sum = 0\n",
    "for i in l1:\n",
    "    sum += i\n",
    "    \n",
    "print(sum)"
   ]
  },
  {
   "cell_type": "code",
   "execution_count": 3,
   "id": "d0e16409",
   "metadata": {},
   "outputs": [
    {
     "name": "stdout",
     "output_type": "stream",
     "text": [
      "1\n",
      "3\n",
      "4\n",
      "Hello\n"
     ]
    }
   ],
   "source": [
    "#For loop works on all the data which has the indexes\n",
    "#For loop on set\n",
    "s = {1, 3, 4,\"Hello\"}\n",
    "for i in s:\n",
    "    print(i)"
   ]
  },
  {
   "cell_type": "code",
   "execution_count": 6,
   "id": "0850ad52",
   "metadata": {},
   "outputs": [
    {
     "name": "stdout",
     "output_type": "stream",
     "text": [
      "D\n",
      "h\n",
      "a\n",
      "n\n",
      "s\n",
      "h\n",
      "r\n",
      "i\n"
     ]
    }
   ],
   "source": [
    "#For loop on string\n",
    "Name = \"Dhanshri\"\n",
    "for i in Name :\n",
    "    print(i)"
   ]
  },
  {
   "cell_type": "code",
   "execution_count": 9,
   "id": "267c26c6",
   "metadata": {},
   "outputs": [],
   "source": [
    "#for on dictinary\n",
    "d = {\"Name\" : \"Dhanshri\",\n",
    "    \"Class\" : \"SY\",\n",
    "    \"Topic\" :['Data scinece','Satastics','ML']}"
   ]
  },
  {
   "cell_type": "code",
   "execution_count": 12,
   "id": "c55199f7",
   "metadata": {},
   "outputs": [
    {
     "name": "stdout",
     "output_type": "stream",
     "text": [
      "Dhanshri\n",
      "SY\n",
      "['Data scinece', 'Satastics', 'ML']\n"
     ]
    }
   ],
   "source": [
    "for i in d.keys():\n",
    "    print(d[i])"
   ]
  },
  {
   "cell_type": "code",
   "execution_count": 13,
   "id": "296c154e",
   "metadata": {},
   "outputs": [
    {
     "name": "stdout",
     "output_type": "stream",
     "text": [
      "Dhanshri\n",
      "SY\n",
      "['Data scinece', 'Satastics', 'ML']\n"
     ]
    }
   ],
   "source": [
    "for i  in d.values():\n",
    "    print(i)"
   ]
  },
  {
   "cell_type": "code",
   "execution_count": 14,
   "id": "96965163",
   "metadata": {},
   "outputs": [
    {
     "name": "stdout",
     "output_type": "stream",
     "text": [
      "('Name', 'Dhanshri')\n",
      "('Class', 'SY')\n",
      "('Topic', ['Data scinece', 'Satastics', 'ML'])\n"
     ]
    }
   ],
   "source": [
    "for i in d.items():\n",
    "    print(i)"
   ]
  },
  {
   "cell_type": "code",
   "execution_count": 15,
   "id": "d72c08a8",
   "metadata": {},
   "outputs": [
    {
     "data": {
      "text/plain": [
       "'p w s k i l l s'"
      ]
     },
     "execution_count": 15,
     "metadata": {},
     "output_type": "execute_result"
    }
   ],
   "source": [
    "string = \"p w s k i l l s\"\n",
    "\n",
    "\" \".join(string.replace(\" \", \"\"))"
   ]
  },
  {
   "cell_type": "code",
   "execution_count": 17,
   "id": "362ae91b",
   "metadata": {},
   "outputs": [
    {
     "data": {
      "text/plain": [
       "True"
      ]
     },
     "execution_count": 17,
     "metadata": {},
     "output_type": "execute_result"
    }
   ],
   "source": [
    "\"pwskills\"[::-1].upper().replace(\"SLLIKSWP\", \"pwskills\").islower()"
   ]
  },
  {
   "cell_type": "code",
   "execution_count": 18,
   "id": "efe8131d",
   "metadata": {},
   "outputs": [
    {
     "name": "stdout",
     "output_type": "stream",
     "text": [
      "I\n",
      "Want\n",
      "To\n",
      "Become\n",
      "A\n",
      "Data\n",
      "Scientist\n"
     ]
    }
   ],
   "source": [
    "s = \"I want to become a data scientist\"\n",
    "\n",
    "for i in s.split():\n",
    "\n",
    "    i.capitalize()\n",
    "\n",
    "    print(i.title())"
   ]
  },
  {
   "cell_type": "code",
   "execution_count": 20,
   "id": "4fe918da",
   "metadata": {},
   "outputs": [],
   "source": [
    "#While Loop"
   ]
  },
  {
   "cell_type": "code",
   "execution_count": 21,
   "id": "6431beaf",
   "metadata": {},
   "outputs": [
    {
     "name": "stdout",
     "output_type": "stream",
     "text": [
      "1\n",
      "2\n",
      "3\n",
      "4\n",
      "5\n",
      "6\n",
      "7\n",
      "8\n",
      "9\n",
      "10\n"
     ]
    }
   ],
   "source": [
    "a = 1\n",
    "\n",
    "#while checks the condition forst and then executes the statement \n",
    "while a <= 10:\n",
    "    print(a)\n",
    "    a = a + 1"
   ]
  },
  {
   "cell_type": "code",
   "execution_count": 27,
   "id": "7ce794b1",
   "metadata": {},
   "outputs": [
    {
     "name": "stdout",
     "output_type": "stream",
     "text": [
      "Enter any number :3\n",
      "6\n"
     ]
    }
   ],
   "source": [
    "#Sum up the number till some point\n",
    "\n",
    "n = int(input(\"Enter any number :\"))\n",
    "sum = 0\n",
    "count = 1\n",
    "while count <= n:\n",
    "    sum = sum + count\n",
    "    count = count + 1\n",
    "print(sum)"
   ]
  },
  {
   "cell_type": "code",
   "execution_count": 30,
   "id": "c3483188",
   "metadata": {},
   "outputs": [
    {
     "name": "stdout",
     "output_type": "stream",
     "text": [
      "Enter the number :3\n",
      "6\n"
     ]
    }
   ],
   "source": [
    "#factorial of any number\n",
    "num = int(input(\"Enter the number :\"))\n",
    "fact = 1\n",
    "\n",
    "while n > 0:\n",
    "    fact = fact * n\n",
    "    n = n - 1\n",
    "print(fact)"
   ]
  },
  {
   "cell_type": "code",
   "execution_count": 32,
   "id": "69e59f80",
   "metadata": {},
   "outputs": [
    {
     "name": "stdout",
     "output_type": "stream",
     "text": [
      "Enter the number of elements you are looking for :5\n",
      "0\n",
      "1\n",
      "1\n",
      "2\n",
      "3\n"
     ]
    }
   ],
   "source": [
    "#Finonacci series\n",
    "num1 = int(input(\"Enter the number of elements you are looking for :\"))\n",
    "a = 0\n",
    "b = 1\n",
    "count = 0\n",
    "while count < num1:\n",
    "    print(a)\n",
    "    c = a + b\n",
    "    a = b\n",
    "    b = c\n",
    "    count = count + 1\n",
    "    "
   ]
  },
  {
   "cell_type": "code",
   "execution_count": 33,
   "id": "eb5cb5be",
   "metadata": {},
   "outputs": [
    {
     "name": "stdout",
     "output_type": "stream",
     "text": [
      "Enter the number of elements you are looking for :5\n",
      "0\n",
      "1\n",
      "1\n",
      "2\n",
      "3\n"
     ]
    }
   ],
   "source": [
    "#Finonacci series using for lop\n",
    "num1 = int(input(\"Enter the number of elements you are looking for :\"))\n",
    "a = 0\n",
    "b = 1\n",
    "count = 0\n",
    "for i in range(a, num1):\n",
    "    print(a)\n",
    "    c = a + b\n",
    "    a = b\n",
    "    b = c\n",
    "    count = count + 1\n",
    "    "
   ]
  },
  {
   "cell_type": "code",
   "execution_count": 36,
   "id": "7cc2ea73",
   "metadata": {},
   "outputs": [
    {
     "name": "stdout",
     "output_type": "stream",
     "text": [
      "Enter the string to be reversed :dhanu\n",
      "unahd\n"
     ]
    }
   ],
   "source": [
    "#Lets reverse the string\n",
    "word = input(\"Enter the string to be reversed :\")\n",
    "reverse = \"\"\n",
    "length = len(word)\n",
    "while length > 0 :\n",
    "    reverse = reverse + word[length -1]\n",
    "    length = length -1\n",
    "print(reverse)"
   ]
  },
  {
   "cell_type": "code",
   "execution_count": 37,
   "id": "822de437",
   "metadata": {},
   "outputs": [
    {
     "name": "stdout",
     "output_type": "stream",
     "text": [
      "Ener the number 2\n",
      "2  X  2  =  2\n",
      "2  X  3  =  4\n",
      "2  X  4  =  6\n",
      "2  X  5  =  8\n",
      "2  X  6  =  10\n",
      "2  X  7  =  12\n",
      "2  X  8  =  14\n",
      "2  X  9  =  16\n",
      "2  X  10  =  18\n",
      "2  X  11  =  20\n"
     ]
    }
   ],
   "source": [
    "#Printing the table\n",
    "n = int(input(\"Ener the number \"))\n",
    "i = 1\n",
    "\n",
    "while i <= 10:\n",
    "    result = n * i\n",
    "    i = i + 1\n",
    "    print(n,\" X \",i,\" = \",result)"
   ]
  },
  {
   "cell_type": "code",
   "execution_count": 39,
   "id": "cf714033",
   "metadata": {},
   "outputs": [
    {
     "name": "stdout",
     "output_type": "stream",
     "text": [
      "1\n",
      "2\n",
      "3\n",
      "4\n",
      "this will be executed once your while is completed successfully\n"
     ]
    }
   ],
   "source": [
    "#While - else\n",
    "n = 5\n",
    "i = 1\n",
    "while i < n:\n",
    "    print(i)\n",
    "    i = i + 1\n",
    "else :\n",
    "    print(\"this will be executed once your while is completed successfully\")"
   ]
  },
  {
   "cell_type": "code",
   "execution_count": null,
   "id": "1aba297c",
   "metadata": {},
   "outputs": [],
   "source": []
  }
 ],
 "metadata": {
  "kernelspec": {
   "display_name": "Python 3 (ipykernel)",
   "language": "python",
   "name": "python3"
  },
  "language_info": {
   "codemirror_mode": {
    "name": "ipython",
    "version": 3
   },
   "file_extension": ".py",
   "mimetype": "text/x-python",
   "name": "python",
   "nbconvert_exporter": "python",
   "pygments_lexer": "ipython3",
   "version": "3.11.3"
  }
 },
 "nbformat": 4,
 "nbformat_minor": 5
}
