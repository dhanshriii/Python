{
 "cells": [
  {
   "cell_type": "markdown",
   "id": "fddadc0c",
   "metadata": {},
   "source": [
    "## Decorators "
   ]
  },
  {
   "cell_type": "code",
   "execution_count": 1,
   "id": "1c6f89a2",
   "metadata": {},
   "outputs": [],
   "source": [
    "#Decorators allow us to wrap another function in order to extend the behaviour of the wrapped function, \n",
    "#without permanently modifying it\n",
    "#In Decorators, functions are taken as the argument into another function and then called inside the wrapper function.\n",
    "\n",
    "def deco(func):\n",
    "    def inner_dec():\n",
    "        print(\"This is the start of my function\")\n",
    "        func()\n",
    "        print(\"this is the end of my function\")\n",
    "    return inner_dec\n"
   ]
  },
  {
   "cell_type": "code",
   "execution_count": 2,
   "id": "b07e4517",
   "metadata": {},
   "outputs": [],
   "source": [
    "@deco\n",
    "def test():\n",
    "    print(6 + 7)"
   ]
  },
  {
   "cell_type": "code",
   "execution_count": 3,
   "id": "303581b1",
   "metadata": {},
   "outputs": [
    {
     "name": "stdout",
     "output_type": "stream",
     "text": [
      "This is the start of my function\n",
      "13\n",
      "this is the end of my function\n"
     ]
    }
   ],
   "source": [
    "test()"
   ]
  },
  {
   "cell_type": "code",
   "execution_count": 12,
   "id": "7d1eac56",
   "metadata": {},
   "outputs": [],
   "source": [
    "#Checking time complexity using decorator\n",
    "import time\n",
    "\n",
    "def timer_test(func):\n",
    "    def timer_test_inner():\n",
    "        start = time.time()\n",
    "        func()\n",
    "        end = time.time()\n",
    "        print(end - start)\n",
    "    return timer_test_inner"
   ]
  },
  {
   "cell_type": "code",
   "execution_count": 13,
   "id": "37c88b10",
   "metadata": {},
   "outputs": [],
   "source": [
    "def test1():\n",
    "    print(45 + 78)"
   ]
  },
  {
   "cell_type": "code",
   "execution_count": 14,
   "id": "4cc99d34",
   "metadata": {},
   "outputs": [
    {
     "name": "stdout",
     "output_type": "stream",
     "text": [
      "123\n"
     ]
    }
   ],
   "source": [
    "test1()"
   ]
  },
  {
   "cell_type": "code",
   "execution_count": 15,
   "id": "43f44c90",
   "metadata": {},
   "outputs": [],
   "source": [
    "@timer_test\n",
    "def test1():\n",
    "    print(45 + 78)"
   ]
  },
  {
   "cell_type": "code",
   "execution_count": 16,
   "id": "2c91cc49",
   "metadata": {},
   "outputs": [
    {
     "name": "stdout",
     "output_type": "stream",
     "text": [
      "123\n",
      "0.0\n"
     ]
    }
   ],
   "source": [
    "test1()"
   ]
  },
  {
   "cell_type": "code",
   "execution_count": null,
   "id": "ed696ba8",
   "metadata": {},
   "outputs": [],
   "source": []
  }
 ],
 "metadata": {
  "kernelspec": {
   "display_name": "Python 3 (ipykernel)",
   "language": "python",
   "name": "python3"
  },
  "language_info": {
   "codemirror_mode": {
    "name": "ipython",
    "version": 3
   },
   "file_extension": ".py",
   "mimetype": "text/x-python",
   "name": "python",
   "nbconvert_exporter": "python",
   "pygments_lexer": "ipython3",
   "version": "3.11.3"
  }
 },
 "nbformat": 4,
 "nbformat_minor": 5
}
