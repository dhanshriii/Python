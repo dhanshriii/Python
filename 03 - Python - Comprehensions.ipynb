{
 "cells": [
  {
   "cell_type": "markdown",
   "id": "2be5bbeb",
   "metadata": {},
   "source": [
    "## Python Comprehension "
   ]
  },
  {
   "cell_type": "markdown",
   "id": "3b78c818",
   "metadata": {},
   "source": [
    "### List Comprehension "
   ]
  },
  {
   "cell_type": "code",
   "execution_count": 2,
   "id": "367a3631",
   "metadata": {},
   "outputs": [],
   "source": [
    "#Comprehension in python is a short and precise way to create a sequence from previosly existing sequence\n",
    "#List comprehension is used very often\n",
    "#We know that :\n",
    "l = [1, 2,3, 4,5]\n",
    "l1 = []\n",
    "for i in l :\n",
    "    l1.append(i**2)\n",
    "    "
   ]
  },
  {
   "cell_type": "code",
   "execution_count": 3,
   "id": "b24f274c",
   "metadata": {},
   "outputs": [
    {
     "data": {
      "text/plain": [
       "[1, 4, 9, 16, 25]"
      ]
     },
     "execution_count": 3,
     "metadata": {},
     "output_type": "execute_result"
    }
   ],
   "source": [
    "l1 "
   ]
  },
  {
   "cell_type": "code",
   "execution_count": 4,
   "id": "f4ab4b2c",
   "metadata": {},
   "outputs": [],
   "source": [
    "#But the same code can also be written as\n",
    "l2 = [i**2 for i in l]"
   ]
  },
  {
   "cell_type": "code",
   "execution_count": 5,
   "id": "cd376147",
   "metadata": {},
   "outputs": [
    {
     "data": {
      "text/plain": [
       "[1, 4, 9, 16, 25]"
      ]
     },
     "execution_count": 5,
     "metadata": {},
     "output_type": "execute_result"
    }
   ],
   "source": [
    "l2"
   ]
  },
  {
   "cell_type": "code",
   "execution_count": 6,
   "id": "50d16f8d",
   "metadata": {},
   "outputs": [
    {
     "data": {
      "text/plain": [
       "[2, 4]"
      ]
     },
     "execution_count": 6,
     "metadata": {},
     "output_type": "execute_result"
    }
   ],
   "source": [
    "#Lets take only even numbers using list comprehension\n",
    "[i for i in l if i % 2 == 0]"
   ]
  },
  {
   "cell_type": "code",
   "execution_count": 11,
   "id": "b20afc97",
   "metadata": {},
   "outputs": [
    {
     "data": {
      "text/plain": [
       "['SUDH', 'DATA', 'SCIENCE']"
      ]
     },
     "execution_count": 11,
     "metadata": {},
     "output_type": "execute_result"
    }
   ],
   "source": [
    "#we can also apply Methods using list comprehension\n",
    "l1 = [\"sudh\",'Data',\"Science\"]\n",
    "[i.upper() for i in l1]"
   ]
  },
  {
   "cell_type": "code",
   "execution_count": 4,
   "id": "07490afb",
   "metadata": {},
   "outputs": [
    {
     "data": {
      "text/plain": [
       "['Mama', 'Kaka', 'Dada']"
      ]
     },
     "execution_count": 4,
     "metadata": {},
     "output_type": "execute_result"
    }
   ],
   "source": [
    "names = ['mama','kaka','dada']\n",
    "lst = [name.capitalize() for name in names]   #First letters get capitalized\n",
    "lst"
   ]
  },
  {
   "cell_type": "code",
   "execution_count": 1,
   "id": "3147f76c",
   "metadata": {},
   "outputs": [
    {
     "name": "stdout",
     "output_type": "stream",
     "text": [
      "[0, 2, 4, 6, 8]\n"
     ]
    }
   ],
   "source": [
    "#List comprehension using if statement\n",
    "def is_even(num) :\n",
    "    return num % 2 == 0\n",
    "lst = [num for num in range(10) if is_even(num)]\n",
    "#Statement at right hand side are executed first\n",
    "print(lst)"
   ]
  },
  {
   "cell_type": "code",
   "execution_count": 2,
   "id": "573cf862",
   "metadata": {},
   "outputs": [
    {
     "name": "stdout",
     "output_type": "stream",
     "text": [
      "['00', '01', '02', '10', '11', '12', '20', '21', '22']\n"
     ]
    }
   ],
   "source": [
    "#Display list in the form of pair of numbers\n",
    "#We can use two for loops in list comprehension\n",
    "lst = [f\"{x}{y}\" for x in range(3) for y in range(3)]\n",
    "print(lst)\n",
    "#All posible pairs are displayed"
   ]
  },
  {
   "cell_type": "code",
   "execution_count": 6,
   "id": "f4234946",
   "metadata": {},
   "outputs": [
    {
     "name": "stdout",
     "output_type": "stream",
     "text": [
      "[7, 14, 21, 28, 35, 42, 49, 56, 63, 70, 77, 84, 91, 98, 105, 112, 119, 126, 133, 140, 147, 154, 161, 168, 175, 182, 189, 196, 203, 210, 217, 224, 231, 238, 245, 252, 259, 266, 273, 280, 287, 294, 301, 308, 315, 322, 329, 336, 343, 350, 357, 364, 371, 378, 385, 392, 399, 406, 413, 420, 427, 434, 441, 448, 455, 462, 469, 476, 483, 490, 497, 504, 511, 518, 525, 532, 539, 546, 553, 560, 567, 574, 581, 588, 595, 602, 609, 616, 623, 630, 637, 644, 651, 658, 665, 672, 679, 686, 693, 700, 707, 714, 721, 728, 735, 742, 749, 756, 763, 770, 777, 784, 791, 798, 805, 812, 819, 826, 833, 840, 847, 854, 861, 868, 875, 882, 889, 896, 903, 910, 917, 924, 931, 938, 945, 952, 959, 966, 973, 980, 987, 994]\n"
     ]
    }
   ],
   "source": [
    "#Examples :\n",
    "#1 ) find all the numbers from 1 to 1000 that are diisible by 7\n",
    "lst = [num for num in range(1, 1000) if num % 7 ==0]\n",
    "print(lst)"
   ]
  },
  {
   "cell_type": "code",
   "execution_count": 9,
   "id": "e0eccd56",
   "metadata": {},
   "outputs": [
    {
     "name": "stdout",
     "output_type": "stream",
     "text": [
      "[3, 13, 23, 30, 31, 32, 33, 34, 35, 36, 37, 38, 39, 43, 53, 63, 73, 83, 93, 103, 113, 123, 130, 131, 132, 133, 134, 135, 136, 137, 138, 139, 143, 153, 163, 173, 183, 193, 203, 213, 223, 230, 231, 232, 233, 234, 235, 236, 237, 238, 239, 243, 253, 263, 273, 283, 293, 300, 301, 302, 303, 304, 305, 306, 307, 308, 309, 310, 311, 312, 313, 314, 315, 316, 317, 318, 319, 320, 321, 322, 323, 324, 325, 326, 327, 328, 329, 330, 331, 332, 333, 334, 335, 336, 337, 338, 339, 340, 341, 342, 343, 344, 345, 346, 347, 348, 349, 350, 351, 352, 353, 354, 355, 356, 357, 358, 359, 360, 361, 362, 363, 364, 365, 366, 367, 368, 369, 370, 371, 372, 373, 374, 375, 376, 377, 378, 379, 380, 381, 382, 383, 384, 385, 386, 387, 388, 389, 390, 391, 392, 393, 394, 395, 396, 397, 398, 399, 403, 413, 423, 430, 431, 432, 433, 434, 435, 436, 437, 438, 439, 443, 453, 463, 473, 483, 493, 503, 513, 523, 530, 531, 532, 533, 534, 535, 536, 537, 538, 539, 543, 553, 563, 573, 583, 593, 603, 613, 623, 630, 631, 632, 633, 634, 635, 636, 637, 638, 639, 643, 653, 663, 673, 683, 693, 703, 713, 723, 730, 731, 732, 733, 734, 735, 736, 737, 738, 739, 743, 753, 763, 773, 783, 793, 803, 813, 823, 830, 831, 832, 833, 834, 835, 836, 837, 838, 839, 843, 853, 863, 873, 883, 893, 903, 913, 923, 930, 931, 932, 933, 934, 935, 936, 937, 938, 939, 943, 953, 963, 973, 983, 993]\n"
     ]
    }
   ],
   "source": [
    "#2)print all the numbers from 0 to 1000 that have 3 in them\n",
    "lst = [n for n in range(0,1000) if '3' in str(n)]\n",
    "print(lst)"
   ]
  },
  {
   "cell_type": "code",
   "execution_count": 16,
   "id": "e29b85d4",
   "metadata": {},
   "outputs": [
    {
     "name": "stdout",
     "output_type": "stream",
     "text": [
      "9\n"
     ]
    }
   ],
   "source": [
    "#3)find the number of spaces in the string\n",
    "some_string = \"Hello, I am Dhanshri Chaudhari. A Second year Undergraduate student\"\n",
    "lst = [s for s in some_string if s == ' ']\n",
    "print(len(lst))"
   ]
  },
  {
   "cell_type": "code",
   "execution_count": 20,
   "id": "d8a5a7f9",
   "metadata": {},
   "outputs": [
    {
     "name": "stdout",
     "output_type": "stream",
     "text": [
      "['L', 'f', 's', 'b', 'x', 'f', 'c', 'h', 'c', 'l', 't', 's']\n"
     ]
    }
   ],
   "source": [
    "#4)Create a list of all consonents in the list\n",
    "sent = \"Life is box of chocolets\"\n",
    "lst = [c for c in sent if c not in \"a,e,i,o,u,' '\"]\n",
    "print(lst)"
   ]
  },
  {
   "cell_type": "code",
   "execution_count": 29,
   "id": "d83853a1",
   "metadata": {},
   "outputs": [
    {
     "name": "stdout",
     "output_type": "stream",
     "text": [
      "[1, 3, 2, 6, 3]\n"
     ]
    }
   ],
   "source": [
    "#5)Find the common numbers in the list\n",
    "lst1 = [1,4,3,2,6,3]\n",
    "lst2 = [3,1,7,8,9,2,6]\n",
    "lst = [i for i in lst1 if i in lst2]\n",
    "print(lst)"
   ]
  },
  {
   "cell_type": "code",
   "execution_count": 36,
   "id": "35a7aaf4",
   "metadata": {},
   "outputs": [
    {
     "name": "stdout",
     "output_type": "stream",
     "text": [
      "['Hello,', 'this', 'is']\n"
     ]
    }
   ],
   "source": [
    "#6)find common words from two stirngs\n",
    "sent1 = \"Hello, this is Dhanshri\"\n",
    "sent2 = \"Hello, this is Niva\"\n",
    "#s1 = sent1.split(\" \")\n",
    "lst = [word for word in sent1.split(\" \")  if word in sent2.split(\" \")]\n",
    "print(lst)"
   ]
  },
  {
   "cell_type": "code",
   "execution_count": 43,
   "id": "1354cd4d",
   "metadata": {},
   "outputs": [
    {
     "name": "stdout",
     "output_type": "stream",
     "text": [
      "['1984', '13', '1000']\n"
     ]
    }
   ],
   "source": [
    "#7) get only numbers from a sentence like \n",
    "sent = 'in 1984 there were 13 instences of protest with over 1000'\n",
    "sent1 = sent.split(\" \")\n",
    "lst = [n for n in sent1 if not n.isalpha()]   #Can also use isdigit()\n",
    "print(lst)"
   ]
  },
  {
   "cell_type": "code",
   "execution_count": 48,
   "id": "f20d4eb6",
   "metadata": {},
   "outputs": [
    {
     "name": "stdout",
     "output_type": "stream",
     "text": [
      "['even', 'odd', 'even', 'odd', 'even', 'odd', 'even', 'odd', 'even', 'odd', 'even', 'odd', 'even', 'odd', 'even', 'odd', 'even', 'odd', 'even', 'odd']\n"
     ]
    }
   ],
   "source": [
    "#8)Print even odd numbers\n",
    "lst = ['even' if n%2 == 0 else 'odd' for n in range(20)]\n",
    "print(lst)"
   ]
  },
  {
   "cell_type": "code",
   "execution_count": 52,
   "id": "9c1f1c88",
   "metadata": {},
   "outputs": [
    {
     "name": "stdout",
     "output_type": "stream",
     "text": [
      "[(2, 2), (7, 7)]\n"
     ]
    }
   ],
   "source": [
    "#Produce a list of tuples conssiting of only the matching numbers in these lists list_a = [1,2,3,4,5,6,7,8,9]\n",
    "#list_b = [2,7,10,12]\n",
    "#The result would look like\n",
    "#(1,1),(2,2)\n",
    "lst1 = [1,2,3,4,5,6,7,8,9]\n",
    "lst2 = [2,7,10,12]\n",
    "lst = [(a,b) for a in lst1 for b in lst2 if a== b ]\n",
    "print(lst)"
   ]
  },
  {
   "cell_type": "code",
   "execution_count": 3,
   "id": "7cad3f3c",
   "metadata": {},
   "outputs": [
    {
     "name": "stdout",
     "output_type": "stream",
     "text": [
      "['on', 'day', 'went', 'in', 'the', 'sun', 'and', 'his', 'red', 'skin', 'sung']\n"
     ]
    }
   ],
   "source": [
    "#Find all the words in the string that has less then 4 letters\n",
    "sentence = \"on summer day ramnath sonar went swimming in the sun and his red skin sung\"\n",
    "lst = [s for s in sentence.split(\" \") if len(s) <= 4]\n",
    "print(lst)"
   ]
  },
  {
   "cell_type": "markdown",
   "id": "932067e1",
   "metadata": {},
   "source": [
    "### Set Comprehension "
   ]
  },
  {
   "cell_type": "code",
   "execution_count": null,
   "id": "739a8120",
   "metadata": {},
   "outputs": [],
   "source": [
    "# Set comprehension is used very rarely \n",
    "set_one = { num for num in range(3)}\n",
    "print(set_one)"
   ]
  },
  {
   "cell_type": "code",
   "execution_count": 8,
   "id": "87d3789b",
   "metadata": {},
   "outputs": [
    {
     "name": "stdout",
     "output_type": "stream",
     "text": [
      "{'32', '03', '12', '22', '13', '21', '11', '10', '01', '20', '23', '30', '00', '33', '31', '02'}\n"
     ]
    }
   ],
   "source": [
    "set1 = {f\"{x}{y}\" for x in range(4) for y in range(4)}\n",
    "print(set1)"
   ]
  },
  {
   "cell_type": "markdown",
   "id": "53dfd9f4",
   "metadata": {},
   "source": [
    "### Dictionary Comprehension "
   ]
  },
  {
   "cell_type": "code",
   "execution_count": 9,
   "id": "20be7796",
   "metadata": {},
   "outputs": [
    {
     "name": "stdout",
     "output_type": "stream",
     "text": [
      "{0: 0, 1: 1, 2: 4, 3: 9, 4: 16}\n"
     ]
    }
   ],
   "source": [
    "dict_one = {x : x*x for x in range(5)}\n",
    "print(dict_one)"
   ]
  },
  {
   "cell_type": "code",
   "execution_count": 13,
   "id": "cacacdb4",
   "metadata": {},
   "outputs": [
    {
     "data": {
      "text/plain": [
       "{'key1': 1, 'key2': 4, 'Key3': 9}"
      ]
     },
     "execution_count": 13,
     "metadata": {},
     "output_type": "execute_result"
    }
   ],
   "source": [
    "\n",
    "d = {\"key1\" : 1,\"key2\" : 2,\"Key3\" : 3}\n",
    "{k:v**2 for k,v in d.items()}"
   ]
  },
  {
   "cell_type": "code",
   "execution_count": 12,
   "id": "1ae2afca",
   "metadata": {},
   "outputs": [
    {
     "data": {
      "text/plain": [
       "{'key2': 2, 'Key3': 3}"
      ]
     },
     "execution_count": 12,
     "metadata": {},
     "output_type": "execute_result"
    }
   ],
   "source": [
    "#Lets apply some filter also\n",
    "{k : v for k , v in d.items() if v > 1}"
   ]
  },
  {
   "cell_type": "markdown",
   "id": "07976662",
   "metadata": {},
   "source": [
    "### Tuple Comprehension"
   ]
  },
  {
   "cell_type": "code",
   "execution_count": 12,
   "id": "c0832d97",
   "metadata": {},
   "outputs": [
    {
     "data": {
      "text/plain": [
       "[1, 2, 3, 4, 5]"
      ]
     },
     "execution_count": 12,
     "metadata": {},
     "output_type": "execute_result"
    }
   ],
   "source": [
    "#Lets see tuple comprehension\n",
    "l"
   ]
  },
  {
   "cell_type": "code",
   "execution_count": 16,
   "id": "da03dc40",
   "metadata": {},
   "outputs": [],
   "source": [
    "tup = (i**2 for i in l)"
   ]
  },
  {
   "cell_type": "code",
   "execution_count": 14,
   "id": "c0481879",
   "metadata": {},
   "outputs": [
    {
     "data": {
      "text/plain": [
       "[1, 4, 9, 16, 25]"
      ]
     },
     "execution_count": 14,
     "metadata": {},
     "output_type": "execute_result"
    }
   ],
   "source": [
    "#This generates an object \n",
    "#we can access those element either converting the tuple into list or using a for loop\n",
    "list(i**2 for i in l)"
   ]
  },
  {
   "cell_type": "code",
   "execution_count": 17,
   "id": "b28b9781",
   "metadata": {},
   "outputs": [
    {
     "name": "stdout",
     "output_type": "stream",
     "text": [
      "1\n",
      "4\n",
      "9\n",
      "16\n",
      "25\n"
     ]
    }
   ],
   "source": [
    "for i in tup :\n",
    "    print(i)"
   ]
  }
 ],
 "metadata": {
  "kernelspec": {
   "display_name": "Python 3 (ipykernel)",
   "language": "python",
   "name": "python3"
  },
  "language_info": {
   "codemirror_mode": {
    "name": "ipython",
    "version": 3
   },
   "file_extension": ".py",
   "mimetype": "text/x-python",
   "name": "python",
   "nbconvert_exporter": "python",
   "pygments_lexer": "ipython3",
   "version": "3.11.3"
  }
 },
 "nbformat": 4,
 "nbformat_minor": 5
}
