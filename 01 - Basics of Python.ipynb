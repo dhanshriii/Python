{
 "cells": [
  {
   "cell_type": "markdown",
   "id": "ff88b16c",
   "metadata": {},
   "source": [
    "## Lets start  our Python journey, paving the way in the world of data science"
   ]
  },
  {
   "cell_type": "code",
   "execution_count": 1,
   "id": "fb6bfb2b",
   "metadata": {},
   "outputs": [],
   "source": [
    "#Variable : countiners to store data \n",
    "a = 10"
   ]
  },
  {
   "cell_type": "code",
   "execution_count": 2,
   "id": "c45086dc",
   "metadata": {},
   "outputs": [
    {
     "name": "stdout",
     "output_type": "stream",
     "text": [
      "10\n"
     ]
    }
   ],
   "source": [
    "print(a) #print : used to display information on console"
   ]
  },
  {
   "cell_type": "code",
   "execution_count": 3,
   "id": "7ce3fc64",
   "metadata": {},
   "outputs": [
    {
     "data": {
      "text/plain": [
       "int"
      ]
     },
     "execution_count": 3,
     "metadata": {},
     "output_type": "execute_result"
    }
   ],
   "source": [
    "type(a) #type() : this function is used to check the datatype of the variable"
   ]
  },
  {
   "cell_type": "code",
   "execution_count": 15,
   "id": "1921000b",
   "metadata": {},
   "outputs": [
    {
     "name": "stdout",
     "output_type": "stream",
     "text": [
      "9.8   <class 'float'>\n",
      "True   <class 'bool'>\n",
      "True + False = 1\n",
      "True * False = 0\n",
      "False   <class 'int'>\n",
      "(5+8j)   <class 'complex'>\n"
     ]
    }
   ],
   "source": [
    "#More data types\n",
    "\n",
    "#1) Integer \n",
    "b = 9.8\n",
    "print(b ,\" \", type(b))\n",
    "\n",
    "#2) Boolean\n",
    "c = True\n",
    "d = False\n",
    "print(c ,\" \", type(c))    \n",
    "#True stores internal value as 1 and false stores internal value as 0\n",
    "print(\"True + False =\",c + d)  #If we perform this it does the addition of internal values \n",
    "    #Result : 1\n",
    "print(\"True * False =\",c * d)\n",
    "    #Result : 0\n",
    "    #We can only perform + and * and not _ , / \n",
    "\n",
    "#3)String\n",
    "e = \"Dhanshri\"\n",
    "print(d ,\" \", type(3))\n",
    "\n",
    "#4)Complex number\n",
    "f = 5 + 8j  #Here we dont use 'i' as we do in maths but python uses 'j' notation to identify complex numbers\n",
    "print(f ,\" \", type(f))\n"
   ]
  },
  {
   "cell_type": "code",
   "execution_count": 23,
   "id": "f315b66f",
   "metadata": {},
   "outputs": [
    {
     "name": "stdout",
     "output_type": "stream",
     "text": [
      "Dhanshri\n"
     ]
    },
    {
     "data": {
      "text/plain": [
       "'i'"
      ]
     },
     "execution_count": 23,
     "metadata": {},
     "output_type": "execute_result"
    }
   ],
   "source": [
    "#String indexing\n",
    "Name = \"Dhanshri\"\n",
    "print(Name)\n",
    "#python supports positve as well as negative indexing\n",
    "Name[0]   #positive [staring from 0, 1,....]\n",
    "\n",
    "Name[-1]  #Negative [straing from -1, -2,.....]\n",
    "\n",
    "#String are immutable and it does not support item assignment\n",
    "#While using replace() : its changes the element but it generates new memeory location and does not change the original stirng"
   ]
  },
  {
   "cell_type": "code",
   "execution_count": 26,
   "id": "9adde0dd",
   "metadata": {},
   "outputs": [
    {
     "data": {
      "text/plain": [
       "'Dhanshri'"
      ]
     },
     "execution_count": 26,
     "metadata": {},
     "output_type": "execute_result"
    }
   ],
   "source": [
    "#String Slicing based in indexing\n",
    "#Str[lower_bound : upper bound + 1]\n",
    "Name[0 : 4]\n",
    "\n",
    "#Want to step between the character or want some gap \n",
    "Name[0 : 9 : 2]  #The upper bound dosent matter in slicing it can be any number\n",
    "Name[0 : 90]\n",
    "\n",
    "#But its not the same in Indexing , In indexing we have to put only valid index"
   ]
  },
  {
   "cell_type": "code",
   "execution_count": 34,
   "id": "4fb1f91d",
   "metadata": {},
   "outputs": [
    {
     "data": {
      "text/plain": [
       "'Dhanshri'"
      ]
     },
     "execution_count": 34,
     "metadata": {},
     "output_type": "execute_result"
    }
   ],
   "source": [
    "#String Functions\n",
    "#If your working on jupyter notebook Str.(Press tab) The available fuctions will be dislayed\n",
    "\n",
    "#Some basic functions are\n",
    "Name.find('a')   #Find() : returns the index of the character or substring\n",
    "Name.count('h')  #count() : counts how many times the charecter or substring occured in the string\n",
    "Name.upper()     #upper() : Converts the whole string in Capital letters\n",
    "Name.lower()     #lower() : Converts the whole string in small letters\n",
    "Name.title()     #tilte() : First letters of all the words turns capital\n",
    "Name.capitalize()#capitalize : Only first letter Capital\n",
    "\n",
    "#Note\n",
    "sent = 'Don't do copy paste'  #this will give error as python is not able to understand where did we actually closed the qoute\n",
    "#So whenever you are using a single quote in the string, the outer quote should be (\"\") Double and whenever using double quote in the string give the single outer quote\n",
    "sent = \"Don't do copy paste\"\n",
    "\n",
    "#Multi line stirng\n",
    "sent = \"\"\"Hello every one \n",
    "    To day i have learned about variable diclaration ,\n",
    "    different data types in python\n",
    "    and looking forward to dive deep in the world of python.\"\"\"\n",
    "#Triple qoute can be used as a multiline comment as well as to store string."
   ]
  },
  {
   "cell_type": "code",
   "execution_count": 36,
   "id": "bb0f214d",
   "metadata": {},
   "outputs": [
    {
     "data": {
      "text/plain": [
       "list"
      ]
     },
     "execution_count": 36,
     "metadata": {},
     "output_type": "execute_result"
    }
   ],
   "source": [
    "#List : Colection of data of different data types\n",
    "l1 = [1,'DC',3.4,True]\n",
    "type(l1)\n"
   ]
  },
  {
   "cell_type": "code",
   "execution_count": 71,
   "id": "654fc4c8",
   "metadata": {},
   "outputs": [
    {
     "data": {
      "text/plain": [
       "'Dha'"
      ]
     },
     "execution_count": 71,
     "metadata": {},
     "output_type": "execute_result"
    }
   ],
   "source": [
    "#List follows the indexing same as Stirng\n",
    "#So to print any element from list use indexing\n",
    "l1[1]  #Positive\n",
    "l1[-1] #Negative\n",
    "\n",
    "#Here we can also use slicing\n",
    "l1[1 : 4] \n",
    "\n",
    "#Reversing the list\n",
    "l1[::-1]\n",
    "\n",
    "#Printing data available on even indexes\n",
    "l1[::2]\n",
    "#printing data available on odd indexes\n",
    "l1[1::2]\n",
    "\n",
    "#adding new data in string\n",
    "s = 'Dhanshri'\n",
    "l1.append(s)  #inbuilt function To appned at th end of the list\n",
    "l1\n",
    "#We also have extend() : but using this we can only add iterable values\n",
    "#We also have insert() : to add values at specific values\n",
    "\n",
    "#Printing the 'Dha' from dhanshri\n",
    "l1[4][:3]\n",
    "\n",
    "#Concatinate list with list\n",
    "l2 = [2, 3, 4]\n",
    "l1 + l2\n",
    "\n",
    "#Number of elements present in the list\n",
    "len(l1)\n",
    "len(l2) \n"
   ]
  },
  {
   "cell_type": "code",
   "execution_count": 70,
   "id": "5a5ef6c1",
   "metadata": {},
   "outputs": [
    {
     "data": {
      "text/plain": [
       "[1, 2, 3, 4]"
      ]
     },
     "execution_count": 70,
     "metadata": {},
     "output_type": "execute_result"
    }
   ],
   "source": [
    "\n",
    "\n",
    "#Delete any element\n",
    "l1.pop(5)  #Delete any specific element By index we pass index as parameter\n",
    "l1.remove(1) #It deletes the value and valyes are pssed as parameter\n",
    "\n"
   ]
  },
  {
   "cell_type": "code",
   "execution_count": 73,
   "id": "6d43caef",
   "metadata": {},
   "outputs": [
    {
     "data": {
      "text/plain": [
       "2"
      ]
     },
     "execution_count": 73,
     "metadata": {},
     "output_type": "execute_result"
    }
   ],
   "source": [
    "#Reversing The list\n",
    "l1[::-1]  #We can also use reverse() But permently reverses the list\n",
    "\n",
    "#Sorting list is applicable only on the list having similar kind of data\n",
    "l3 = [3,2,4,1]\n",
    "l3.sort()\n",
    "l3\n",
    "\n",
    "l3.index(3) #gives the index of the element\n",
    "l3.count(3) #Give the number of times the element is repeated\n",
    "\n",
    "#List is mutable as we can even change or reassign the elements\n"
   ]
  },
  {
   "cell_type": "code",
   "execution_count": 81,
   "id": "559cabfe",
   "metadata": {},
   "outputs": [
    {
     "data": {
      "text/plain": [
       "(4, 3, 2, 1)"
      ]
     },
     "execution_count": 81,
     "metadata": {},
     "output_type": "execute_result"
    }
   ],
   "source": [
    "#Tuples : Similar to list Data stored in '()'\n",
    "#Tuples are immutable\n",
    "t = (1, 2, 3, 4)\n",
    "type(t)\n",
    "\n",
    "#Length\n",
    "len(t)\n",
    "\n",
    "##Printing any element\n",
    "t[1]\n",
    "\n",
    "#Slicing\n",
    "t[1:5:2]\n",
    "\n",
    "#Note : Reassignemnet and mutability are different\n",
    "#The data cannot be changed in tuple as it is mutable\n",
    "\n",
    "#Reversing tuple\n",
    "t[::-1]\n",
    "\n",
    "#The functions available are count and index\n"
   ]
  },
  {
   "cell_type": "code",
   "execution_count": 87,
   "id": "9efeb9ec",
   "metadata": {},
   "outputs": [
    {
     "data": {
      "text/plain": [
       "{1, 2, 3, 5.4, 6, 'Dhanshri'}"
      ]
     },
     "execution_count": 87,
     "metadata": {},
     "output_type": "execute_result"
    }
   ],
   "source": [
    "#Set : Collection of unique data elements\n",
    "#It accepts only immutable collection of data\n",
    "\n",
    "s = {1,2,3,4,'Dhanshri',5.4}\n",
    "type(s)\n",
    "s\n",
    "#Set is unordered collection it prints randomly any data\n",
    "\n",
    "#We cannot perform indexing and slicing on list as it is unordered\n",
    "\n",
    "s.add(6)  #This is element to be added\n",
    "\n",
    "s.remove(4) #This the element and not index\n",
    "s"
   ]
  },
  {
   "cell_type": "code",
   "execution_count": 106,
   "id": "46963ea7",
   "metadata": {},
   "outputs": [
    {
     "data": {
      "text/plain": [
       "0"
      ]
     },
     "execution_count": 106,
     "metadata": {},
     "output_type": "execute_result"
    }
   ],
   "source": [
    "#Dictionary\n",
    "d = {'Key' : 'Value'}  #The key should always be unique\n",
    "type(d)\n",
    "\n",
    "d1 = {'name' : \"Dhanshri\",\n",
    "     'email' : \"abc@gmail.com\",\n",
    "     'Phone' : 12345678,\n",
    "     'sub' : ['phy','chem'],   #The value can be a list also\n",
    "     'time' : (1,2.3),         #The value can also be a tuple\n",
    "      'Alpha' : {'a','b','c'},  #The value can also be a set\n",
    "      'Num' : {1 : 2, 4 : 5},   #The value can also be another dictionary \n",
    "      2 : 45,\n",
    "     True : 1,\n",
    "     }\n",
    "d1\n",
    "\n",
    "#If we want to print any key value we use the keys as here we dont have the concept of indexing\n",
    "d1[1]  #As internally True stores 1 thats why we will get the output\n",
    "d1['name']  \n",
    "\n",
    "#If we give different values for same keys the the last updated values get assigned overriding the other values\n",
    "\n",
    "#Adding new key value\n",
    "d1[False] = 0  #IF already exists then it will update the value\n",
    "d1\n",
    "\n",
    "#DElete any key value pair\n",
    "del d1[True]\n",
    "d1\n",
    "\n",
    "#Printing keys\n",
    "d1.keys()\n",
    "\n",
    "#Printing all the values\n",
    "d1.values()\n",
    "\n",
    "#Printing both keys and values\n",
    "d1.items()  #In the form of tuple\n",
    "\n",
    "#Deleting using pop()\n",
    "d1.pop(False)"
   ]
  },
  {
   "cell_type": "code",
   "execution_count": null,
   "id": "dd4b6372",
   "metadata": {},
   "outputs": [],
   "source": []
  }
 ],
 "metadata": {
  "kernelspec": {
   "display_name": "Python 3 (ipykernel)",
   "language": "python",
   "name": "python3"
  },
  "language_info": {
   "codemirror_mode": {
    "name": "ipython",
    "version": 3
   },
   "file_extension": ".py",
   "mimetype": "text/x-python",
   "name": "python",
   "nbconvert_exporter": "python",
   "pygments_lexer": "ipython3",
   "version": "3.11.3"
  }
 },
 "nbformat": 4,
 "nbformat_minor": 5
}
