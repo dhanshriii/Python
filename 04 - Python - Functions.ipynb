{
 "cells": [
  {
   "cell_type": "markdown",
   "id": "d03e7239",
   "metadata": {},
   "source": [
    "## Functions\n"
   ]
  },
  {
   "cell_type": "code",
   "execution_count": null,
   "id": "c63d4f36",
   "metadata": {},
   "outputs": [],
   "source": [
    "#We have seen print() already which also a function used ot display information on the console\n",
    "#User defined function in python are made using 'def' keyword\n",
    "#To execute a function it should always be called using function name"
   ]
  },
  {
   "cell_type": "code",
   "execution_count": 1,
   "id": "15105022",
   "metadata": {},
   "outputs": [],
   "source": [
    "#First function\n",
    "def test():\n",
    "    return \"This is first return\""
   ]
  },
  {
   "cell_type": "code",
   "execution_count": 2,
   "id": "10e408d3",
   "metadata": {},
   "outputs": [
    {
     "data": {
      "text/plain": [
       "'This is first return'"
      ]
     },
     "execution_count": 2,
     "metadata": {},
     "output_type": "execute_result"
    }
   ],
   "source": [
    "test()"
   ]
  },
  {
   "cell_type": "code",
   "execution_count": 4,
   "id": "e9e4be71",
   "metadata": {},
   "outputs": [
    {
     "data": {
      "text/plain": [
       "'This is first return Dhanshri'"
      ]
     },
     "execution_count": 4,
     "metadata": {},
     "output_type": "execute_result"
    }
   ],
   "source": [
    "#We can perform operations\n",
    "test() + \" Dhanshri\""
   ]
  },
  {
   "cell_type": "code",
   "execution_count": 5,
   "id": "ab5153c2",
   "metadata": {},
   "outputs": [],
   "source": [
    "#Default function\n",
    "def test1():\n",
    "    return \"Dhanshri\",2,3.4,[1,2,3]"
   ]
  },
  {
   "cell_type": "code",
   "execution_count": 6,
   "id": "a35d44ac",
   "metadata": {},
   "outputs": [
    {
     "data": {
      "text/plain": [
       "('Dhanshri', 2, 3.4, [1, 2, 3])"
      ]
     },
     "execution_count": 6,
     "metadata": {},
     "output_type": "execute_result"
    }
   ],
   "source": [
    "test1()\n",
    "#It will return a tuple of all the data types\n"
   ]
  },
  {
   "cell_type": "code",
   "execution_count": 7,
   "id": "5d1e6c19",
   "metadata": {},
   "outputs": [],
   "source": [
    "#We can also store this data in some variable and then retunr it\n",
    "a,b,c,d = \"Dhanshri\",2,3.4,[1,2,3]"
   ]
  },
  {
   "cell_type": "code",
   "execution_count": 8,
   "id": "4e648bc9",
   "metadata": {},
   "outputs": [],
   "source": [
    "def test2():\n",
    "    return a,b,c,d"
   ]
  },
  {
   "cell_type": "code",
   "execution_count": 9,
   "id": "e223515e",
   "metadata": {},
   "outputs": [
    {
     "data": {
      "text/plain": [
       "('Dhanshri', 2, 3.4, [1, 2, 3])"
      ]
     },
     "execution_count": 9,
     "metadata": {},
     "output_type": "execute_result"
    }
   ],
   "source": [
    "test2()"
   ]
  },
  {
   "cell_type": "code",
   "execution_count": 10,
   "id": "59c4bf9b",
   "metadata": {},
   "outputs": [],
   "source": [
    "def test3():\n",
    "    a = 5 + 7 / 7\n",
    "    return a"
   ]
  },
  {
   "cell_type": "code",
   "execution_count": 11,
   "id": "6a9aedac",
   "metadata": {},
   "outputs": [
    {
     "data": {
      "text/plain": [
       "6.0"
      ]
     },
     "execution_count": 11,
     "metadata": {},
     "output_type": "execute_result"
    }
   ],
   "source": [
    "test3()"
   ]
  },
  {
   "cell_type": "code",
   "execution_count": 12,
   "id": "c84bc650",
   "metadata": {},
   "outputs": [],
   "source": [
    "#Parameterized function\n",
    "def test4(a, b, c):\n",
    "    d = a + b / c\n",
    "    return d\n",
    "    "
   ]
  },
  {
   "cell_type": "code",
   "execution_count": 13,
   "id": "ba9c1ed6",
   "metadata": {},
   "outputs": [
    {
     "data": {
      "text/plain": [
       "6.0"
      ]
     },
     "execution_count": 13,
     "metadata": {},
     "output_type": "execute_result"
    }
   ],
   "source": [
    "#In parametarized function we have to pass the parameters according to the sequence\n",
    "test4(5,7,7)"
   ]
  },
  {
   "cell_type": "code",
   "execution_count": 15,
   "id": "4671f4f7",
   "metadata": {},
   "outputs": [
    {
     "data": {
      "text/plain": [
       "7"
      ]
     },
     "execution_count": 15,
     "metadata": {},
     "output_type": "execute_result"
    }
   ],
   "source": [
    "#The integers gets added\n",
    "def test5(a, b):\n",
    "    return a + b\n",
    "test5(3, 4)"
   ]
  },
  {
   "cell_type": "code",
   "execution_count": 16,
   "id": "fad1e71e",
   "metadata": {},
   "outputs": [
    {
     "data": {
      "text/plain": [
       "'Dhanshri Chaudhari'"
      ]
     },
     "execution_count": 16,
     "metadata": {},
     "output_type": "execute_result"
    }
   ],
   "source": [
    "#The string gets concatinated\n",
    "def test6(a, b):\n",
    "    return a + b\n",
    "test6(\"Dhanshri \",\"Chaudhari\")"
   ]
  },
  {
   "cell_type": "code",
   "execution_count": 2,
   "id": "66acea8f",
   "metadata": {},
   "outputs": [
    {
     "name": "stdout",
     "output_type": "stream",
     "text": [
      "Hello Dhanshri!\n"
     ]
    }
   ],
   "source": [
    "def greet_user(username):\n",
    "    print(f\"Hello {username}!\")\n",
    "greet_user(\"Dhanshri\")"
   ]
  },
  {
   "cell_type": "code",
   "execution_count": 3,
   "id": "6270d679",
   "metadata": {},
   "outputs": [
    {
     "name": "stdout",
     "output_type": "stream",
     "text": [
      "\n",
      "I have a Dog\n",
      "My Dog's name is Moti.\n"
     ]
    }
   ],
   "source": [
    "#Positional arguments\n",
    "def describe_pet(animal_type, pet_name):\n",
    "    print(f\"\\nI have a {animal_type}\")\n",
    "    print(f\"My {animal_type}'s name is {pet_name}.\")\n",
    "describe_pet('Dog', 'Moti')"
   ]
  },
  {
   "cell_type": "code",
   "execution_count": 23,
   "id": "d85ef01b",
   "metadata": {},
   "outputs": [
    {
     "data": {
      "text/plain": [
       "[1, 2, 3, 4, 6, 7, 8]"
      ]
     },
     "execution_count": 23,
     "metadata": {},
     "output_type": "execute_result"
    }
   ],
   "source": [
    "#Write a function to remove all the integers from this list\n",
    "l = [1,2,3,4,\"Dhanshri\",[6,7,8]]\n",
    "l1 = []\n",
    "\n",
    "def get_int():\n",
    "    \"\"\"This is my fuunction to extract numeric data from list\"\"\"   #This is the docstring to give specification of the function\n",
    "    for i in l:\n",
    "        if type(i) == int or type(i) == float:\n",
    "            l1.append(i)\n",
    "        if type(i) == list:\n",
    "            for j in i:\n",
    "                if type(j) == int or type(j) == float:\n",
    "                    l1.append(j)\n",
    "    return l1\n",
    "get_int()"
   ]
  },
  {
   "cell_type": "code",
   "execution_count": 5,
   "id": "985927ec",
   "metadata": {},
   "outputs": [
    {
     "name": "stdout",
     "output_type": "stream",
     "text": [
      "{'first': 'ram', 'last': 'sarkar'}\n"
     ]
    }
   ],
   "source": [
    "#Function returing dictionary\n",
    "def build_person(first_name, last_name) :\n",
    "    person = {'first' : first_name, 'last' : last_name}\n",
    "    return person\n",
    "musician = build_person('ram','sarkar')\n",
    "print(musician)"
   ]
  },
  {
   "cell_type": "code",
   "execution_count": null,
   "id": "e016c8d1",
   "metadata": {},
   "outputs": [],
   "source": []
  },
  {
   "cell_type": "code",
   "execution_count": null,
   "id": "943256af",
   "metadata": {},
   "outputs": [],
   "source": []
  },
  {
   "cell_type": "code",
   "execution_count": 10,
   "id": "7d7268a1",
   "metadata": {},
   "outputs": [
    {
     "name": "stdout",
     "output_type": "stream",
     "text": [
      "('pepperoni',)\n",
      "('mashroom', 'green peppers', 'extra cheese')\n",
      "- pepperoni\n",
      "- mashroom\n",
      "- green peppers\n",
      "- extra cheese\n"
     ]
    }
   ],
   "source": [
    "#Arbitrary Arguments\n",
    "#WE can also make the parameters dynamic\n",
    "#using '*args' to pass multiple inputs\n",
    "#'args' is not a keyword we can use any variable\n",
    "#You can pass n number of parameters while calling and stores it in the form of tuple\n",
    "#It returns the tuple \n",
    "def make_pizza(*toppings):\n",
    "        print(toppings)\n",
    "make_pizza('pepperoni')\n",
    "make_pizza('mashroom','green peppers','extra cheese')\n",
    "\n",
    "#We can also use for loop\n",
    "def make_pizza(*toppings):\n",
    "    for topping in toppings:\n",
    "        print(f\"- {topping}\")\n",
    "make_pizza('pepperoni')\n",
    "make_pizza('mashroom','green peppers','extra cheese')"
   ]
  },
  {
   "cell_type": "code",
   "execution_count": 11,
   "id": "b5c8b4fd",
   "metadata": {},
   "outputs": [
    {
     "data": {
      "text/plain": [
       "((1, 2, 3, 4), 5)"
      ]
     },
     "execution_count": 11,
     "metadata": {},
     "output_type": "execute_result"
    }
   ],
   "source": [
    "def test7(*args,a):\n",
    "    return args,a\n",
    "\n",
    "test7(1,2,3,4,a = 5)  #We have to specify the value of a otherwise it will give error as it dosent understand which value to assign to 'a'\n"
   ]
  },
  {
   "cell_type": "code",
   "execution_count": 13,
   "id": "49d833b3",
   "metadata": {},
   "outputs": [
    {
     "name": "stdout",
     "output_type": "stream",
     "text": [
      "making a 15-inch pizza with the following toppings:\n",
      "- pepperoni\n",
      "making a 12-inch pizza with the following toppings:\n",
      "- mashroom\n",
      "- green pepper\n",
      "- extracheese\n"
     ]
    }
   ],
   "source": [
    "def make_pizza(size,*toppings):\n",
    "    #summarize the pizza we are about to make\n",
    "    print(f\"making a {size}-inch pizza with the following toppings:\")\n",
    "    for topping in toppings:\n",
    "        print(f\"- {topping}\")   \n",
    "    \n",
    "make_pizza(15,'pepperoni' )\n",
    "make_pizza(12, 'mashroom','green pepper','extracheese')\n"
   ]
  },
  {
   "cell_type": "code",
   "execution_count": null,
   "id": "3fd89b97",
   "metadata": {},
   "outputs": [],
   "source": [
    "#Making module of our own code\n",
    "#We can use that function later even by importing it\n",
    "#Save that module or code with specific name that will be the module name \n",
    "#When you need that module just import if \n",
    "#import module_name\n"
   ]
  },
  {
   "cell_type": "code",
   "execution_count": 2,
   "id": "33efcf9a",
   "metadata": {},
   "outputs": [
    {
     "data": {
      "text/plain": [
       "(2, 8, 4, 5)"
      ]
     },
     "execution_count": 2,
     "metadata": {},
     "output_type": "execute_result"
    }
   ],
   "source": [
    "#mixing arbitrary arguments and positional arguments \n",
    "def test8(c, d, a = 2, b = 8):\n",
    "    return a,b,c,d\n",
    "test8(4,5)    #The unknown values are passed here i.e a, d"
   ]
  },
  {
   "cell_type": "code",
   "execution_count": 3,
   "id": "848ca1d7",
   "metadata": {},
   "outputs": [
    {
     "data": {
      "text/plain": [
       "{'a': [1, 2, 3], 'b': 'Hello', 'c': 45}"
      ]
     },
     "execution_count": 3,
     "metadata": {},
     "output_type": "execute_result"
    }
   ],
   "source": [
    "#Keyword args(**) \n",
    "#When we want to pass key : value pair as parameters we use keyword args\n",
    "#It stores th dataa in dictionary type\n",
    "#It returns a dictionary\n",
    "\n",
    "def test9(**kargs):\n",
    "    return kargs\n",
    "\n",
    "test9(a = [1,2,3], b = \"Hello\", c = 45)"
   ]
  },
  {
   "cell_type": "code",
   "execution_count": 16,
   "id": "5cef438f",
   "metadata": {},
   "outputs": [
    {
     "name": "stdout",
     "output_type": "stream",
     "text": [
      "navin\n",
      "age 28\n",
      "place mumbai\n",
      "mob_no 12345\n"
     ]
    }
   ],
   "source": [
    "#using for loop\n",
    "def person(name,**data):\n",
    "    print(name)\n",
    "    for i,j in data.items():\n",
    "        print(i,j)\n",
    "person(name = 'navin',age = 28,place = 'mumbai',mob_no = 12345)"
   ]
  },
  {
   "cell_type": "code",
   "execution_count": 17,
   "id": "dd655e36",
   "metadata": {},
   "outputs": [
    {
     "data": {
      "text/plain": [
       "8"
      ]
     },
     "execution_count": 17,
     "metadata": {},
     "output_type": "execute_result"
    }
   ],
   "source": [
    "#Lamda Functions\n",
    "val = lambda **data : sum(data.values())\n",
    "val(a = 1, b = 3, c = 4)"
   ]
  },
  {
   "cell_type": "code",
   "execution_count": null,
   "id": "46345443",
   "metadata": {},
   "outputs": [],
   "source": [
    "max = lambda a,b : x if(a > b) #This will not the out put as in lambda function if we are using if we always have to use else along with it "
   ]
  },
  {
   "cell_type": "code",
   "execution_count": 1,
   "id": "f5269dd1",
   "metadata": {},
   "outputs": [
    {
     "name": "stdout",
     "output_type": "stream",
     "text": [
      "0\n",
      "2\n",
      "4\n"
     ]
    }
   ],
   "source": [
    "#function which return multiple values           \n",
    "#if used return that error will occure because function can not be passsed in iterable\n",
    "def range_even(num):\n",
    "    for i in range(0,5,2):\n",
    "        yield i\n",
    "for num in range_even(6):\n",
    "    print(num)"
   ]
  },
  {
   "cell_type": "code",
   "execution_count": 2,
   "id": "2a4382f8",
   "metadata": {},
   "outputs": [
    {
     "data": {
      "text/plain": [
       "2"
      ]
     },
     "execution_count": 2,
     "metadata": {},
     "output_type": "execute_result"
    }
   ],
   "source": [
    "#now instead of using for loop we can write our own generator\n",
    "gen = range_even(6)\n",
    "next(gen)#(next() is mostly used in IOT )\n",
    "next(gen)\n",
    "\n"
   ]
  },
  {
   "cell_type": "code",
   "execution_count": 8,
   "id": "09b7cc64",
   "metadata": {},
   "outputs": [
    {
     "name": "stdout",
     "output_type": "stream",
     "text": [
      "********\n",
      "***********\n",
      "*********\n"
     ]
    }
   ],
   "source": [
    "def lengths(itr):\n",
    "    for ele in itr:\n",
    "        yield len(ele)\n",
    "def hide(itr):\n",
    "    for ele in itr:\n",
    "        yield ele*'*'\n",
    "passwords = [\"not=good\",\"give m-pass\",\"00100=100\"]\n",
    "for password in hide(lengths(passwords)):  #Here we have passed a geenrator within a generator\n",
    "    print(password)"
   ]
  },
  {
   "cell_type": "code",
   "execution_count": null,
   "id": "9d7f53b8",
   "metadata": {},
   "outputs": [],
   "source": []
  }
 ],
 "metadata": {
  "kernelspec": {
   "display_name": "Python 3 (ipykernel)",
   "language": "python",
   "name": "python3"
  },
  "language_info": {
   "codemirror_mode": {
    "name": "ipython",
    "version": 3
   },
   "file_extension": ".py",
   "mimetype": "text/x-python",
   "name": "python",
   "nbconvert_exporter": "python",
   "pygments_lexer": "ipython3",
   "version": "3.11.3"
  }
 },
 "nbformat": 4,
 "nbformat_minor": 5
}
