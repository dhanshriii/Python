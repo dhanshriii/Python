{
 "cells": [
  {
   "cell_type": "markdown",
   "id": "d870d7ac",
   "metadata": {},
   "source": [
    "## Generator Function"
   ]
  },
  {
   "cell_type": "code",
   "execution_count": null,
   "id": "3017774d",
   "metadata": {},
   "outputs": [],
   "source": [
    "#Generator Functions\n",
    "#Do not use return keyword\n",
    "#but uses yeild keyword\n",
    "#Generator are used for memory Optimization\n",
    "#It gives the output one by one withput holding everything in the memory\n",
    "\n",
    "def test_fib(n):\n",
    "    a = 0\n",
    "    b = 1\n",
    "    for i in range(n):\n",
    "        yield a\n",
    "        temp = a\n",
    "        a = b\n",
    "        b = temp + b\n",
    "        "
   ]
  },
  {
   "cell_type": "code",
   "execution_count": 7,
   "id": "5663fe57",
   "metadata": {},
   "outputs": [
    {
     "data": {
      "text/plain": [
       "<generator object tes_fib at 0x0000014491122200>"
      ]
     },
     "execution_count": 7,
     "metadata": {},
     "output_type": "execute_result"
    }
   ],
   "source": [
    "test_fib(10)\n",
    "#It creates the object instead of giving the output "
   ]
  },
  {
   "cell_type": "code",
   "execution_count": 8,
   "id": "00dc5315",
   "metadata": {},
   "outputs": [
    {
     "name": "stdout",
     "output_type": "stream",
     "text": [
      "0\n",
      "1\n",
      "1\n",
      "2\n",
      "3\n",
      "5\n",
      "8\n",
      "13\n",
      "21\n",
      "34\n"
     ]
    }
   ],
   "source": [
    "#For displaying the output we have to put it in for loop\n",
    "for i in test_fib(10):\n",
    "    print(i)"
   ]
  },
  {
   "cell_type": "code",
   "execution_count": 9,
   "id": "0f9a3d62",
   "metadata": {},
   "outputs": [],
   "source": [
    "#We can also write it using while loop\n",
    "def test_fib1():\n",
    "    a = 0\n",
    "    b = 1\n",
    "    while True:\n",
    "        yield a\n",
    "        temp = a\n",
    "        a = b\n",
    "        b = temp + b\n",
    "        "
   ]
  },
  {
   "cell_type": "code",
   "execution_count": 14,
   "id": "8cd0c416",
   "metadata": {},
   "outputs": [],
   "source": [
    "fib = test_fib1()"
   ]
  },
  {
   "cell_type": "code",
   "execution_count": 16,
   "id": "780c6b33",
   "metadata": {},
   "outputs": [
    {
     "name": "stdout",
     "output_type": "stream",
     "text": [
      "0\n",
      "1\n",
      "1\n",
      "2\n",
      "3\n",
      "5\n",
      "8\n",
      "13\n",
      "21\n",
      "34\n"
     ]
    }
   ],
   "source": [
    "#For displyaing the output we can even use next() function\n",
    "\n",
    "for i in range(10):\n",
    "    print(next(fib))\n",
    "    #Next works only when the object is iterator\n",
    "    #For loop internally works the same\n",
    "    #firstly converts into iterator and then next(),next(),...\n",
    "    \n",
    "    #Note : The one which are iterable can only be converted into iterator\n",
    "    #e.g : list,string,etc"
   ]
  },
  {
   "cell_type": "code",
   "execution_count": 17,
   "id": "9ea017ac",
   "metadata": {},
   "outputs": [],
   "source": [
    "def count_test(n):\n",
    "    count = 1\n",
    "    while count < n:\n",
    "        yield count\n",
    "        count = count + 1"
   ]
  },
  {
   "cell_type": "code",
   "execution_count": 18,
   "id": "41392137",
   "metadata": {},
   "outputs": [],
   "source": [
    "c = count_test(5)"
   ]
  },
  {
   "cell_type": "code",
   "execution_count": 19,
   "id": "c7f9755e",
   "metadata": {},
   "outputs": [
    {
     "name": "stdout",
     "output_type": "stream",
     "text": [
      "1\n",
      "2\n",
      "3\n",
      "4\n"
     ]
    }
   ],
   "source": [
    "for i in c:\n",
    "    print(i)"
   ]
  },
  {
   "cell_type": "markdown",
   "id": "2d815029",
   "metadata": {},
   "source": [
    "## Lambda Function "
   ]
  },
  {
   "cell_type": "code",
   "execution_count": 21,
   "id": "f7833179",
   "metadata": {},
   "outputs": [],
   "source": [
    "#Lambda function is also known as anonymous function\n",
    "#That is the fucntion without name \n",
    "#Lambda keyword is used to define an anonymous function in python\n",
    "#syntax : lambda arguments : expression\n",
    "a = lambda n, p : n**p"
   ]
  },
  {
   "cell_type": "code",
   "execution_count": 23,
   "id": "9d35dd22",
   "metadata": {},
   "outputs": [
    {
     "data": {
      "text/plain": [
       "9"
      ]
     },
     "execution_count": 23,
     "metadata": {},
     "output_type": "execute_result"
    }
   ],
   "source": [
    "a(3,2)"
   ]
  },
  {
   "cell_type": "code",
   "execution_count": 24,
   "id": "cc05b097",
   "metadata": {},
   "outputs": [],
   "source": [
    "#We are storing the function in an variable and then calling it\n",
    "add = lambda x, y : x + y"
   ]
  },
  {
   "cell_type": "code",
   "execution_count": 25,
   "id": "bd2e7fff",
   "metadata": {},
   "outputs": [
    {
     "data": {
      "text/plain": [
       "3"
      ]
     },
     "execution_count": 25,
     "metadata": {},
     "output_type": "execute_result"
    }
   ],
   "source": [
    "add(1,2)"
   ]
  },
  {
   "cell_type": "code",
   "execution_count": 26,
   "id": "d70e0e09",
   "metadata": {},
   "outputs": [],
   "source": [
    "#Fucntion to cinvert into farenhite\n",
    "c_to_f = lambda c : (9/5)*c + 32"
   ]
  },
  {
   "cell_type": "code",
   "execution_count": 27,
   "id": "e34f26d0",
   "metadata": {},
   "outputs": [
    {
     "data": {
      "text/plain": [
       "113.0"
      ]
     },
     "execution_count": 27,
     "metadata": {},
     "output_type": "execute_result"
    }
   ],
   "source": [
    "c_to_f(45)"
   ]
  },
  {
   "cell_type": "code",
   "execution_count": 30,
   "id": "230b4e44",
   "metadata": {},
   "outputs": [],
   "source": [
    "#We can also give condition in lambda function\n",
    "#But when we are using if it is compulsory to use else as well\n",
    "\n",
    "finding_max = lambda x, y : x if x > y else y"
   ]
  },
  {
   "cell_type": "code",
   "execution_count": 31,
   "id": "ccc28e56",
   "metadata": {},
   "outputs": [
    {
     "data": {
      "text/plain": [
       "9"
      ]
     },
     "execution_count": 31,
     "metadata": {},
     "output_type": "execute_result"
    }
   ],
   "source": [
    "finding_max(8,9)"
   ]
  },
  {
   "cell_type": "code",
   "execution_count": 32,
   "id": "0e4cd42b",
   "metadata": {},
   "outputs": [],
   "source": [
    "s = 'Dhanshri'\n",
    "length = lambda s : len(s)"
   ]
  },
  {
   "cell_type": "code",
   "execution_count": 33,
   "id": "9137d3dc",
   "metadata": {},
   "outputs": [
    {
     "data": {
      "text/plain": [
       "8"
      ]
     },
     "execution_count": 33,
     "metadata": {},
     "output_type": "execute_result"
    }
   ],
   "source": [
    "length(s)"
   ]
  },
  {
   "cell_type": "code",
   "execution_count": 2,
   "id": "a9629228",
   "metadata": {},
   "outputs": [
    {
     "data": {
      "text/plain": [
       "9"
      ]
     },
     "execution_count": 2,
     "metadata": {},
     "output_type": "execute_result"
    }
   ],
   "source": [
    "#If dont know the number of arguments\n",
    "val=lambda *args:sum(args)\n",
    "val(1,2,3,4)\n",
    "val(4,5)"
   ]
  },
  {
   "cell_type": "code",
   "execution_count": 1,
   "id": "8ba8934d",
   "metadata": {},
   "outputs": [
    {
     "data": {
      "text/plain": [
       "8"
      ]
     },
     "execution_count": 1,
     "metadata": {},
     "output_type": "execute_result"
    }
   ],
   "source": [
    "#using keyword arguments in lambda function\n",
    "val = lambda **data:sum(data.values())\n",
    "val(a=1,b=3,c=4)"
   ]
  },
  {
   "cell_type": "markdown",
   "id": "d5c94c66",
   "metadata": {},
   "source": [
    "## Map, Reduce, Filter Function"
   ]
  },
  {
   "cell_type": "code",
   "execution_count": 34,
   "id": "5cd55bef",
   "metadata": {},
   "outputs": [],
   "source": [
    "l = [2, 3, 4, 5, 6]"
   ]
  },
  {
   "cell_type": "code",
   "execution_count": 36,
   "id": "07c73e0d",
   "metadata": {},
   "outputs": [],
   "source": [
    "#It takes iterable and function as arguments\n",
    "def sq(x):\n",
    "    return x**2\n"
   ]
  },
  {
   "cell_type": "code",
   "execution_count": 38,
   "id": "1bb3d08c",
   "metadata": {},
   "outputs": [
    {
     "data": {
      "text/plain": [
       "[4, 9, 16, 25, 36]"
      ]
     },
     "execution_count": 38,
     "metadata": {},
     "output_type": "execute_result"
    }
   ],
   "source": [
    "list(map(sq, l))"
   ]
  },
  {
   "cell_type": "code",
   "execution_count": 39,
   "id": "516b4197",
   "metadata": {},
   "outputs": [
    {
     "data": {
      "text/plain": [
       "[4, 9, 16, 25, 36]"
      ]
     },
     "execution_count": 39,
     "metadata": {},
     "output_type": "execute_result"
    }
   ],
   "source": [
    "#We can even write the function directly in the arguments\n",
    "list(map(lambda x : x**2, l))"
   ]
  },
  {
   "cell_type": "code",
   "execution_count": 5,
   "id": "bd9a855a",
   "metadata": {},
   "outputs": [
    {
     "data": {
      "text/plain": [
       "[7, 9, 11, 13, 15]"
      ]
     },
     "execution_count": 5,
     "metadata": {},
     "output_type": "execute_result"
    }
   ],
   "source": [
    "l1 = [1, 2 , 3, 4, 5]\n",
    "l2 = [6, 7, 8, 9, 10]\n",
    "\n",
    "list(map(lambda x, y : x + y, l1, l2))"
   ]
  },
  {
   "cell_type": "code",
   "execution_count": 6,
   "id": "1ed5fb18",
   "metadata": {},
   "outputs": [],
   "source": [
    "#We can even use external function\n",
    "def add(x, y):\n",
    "    return x + y\n"
   ]
  },
  {
   "cell_type": "code",
   "execution_count": 7,
   "id": "a9842c50",
   "metadata": {},
   "outputs": [
    {
     "data": {
      "text/plain": [
       "[7, 9, 11, 13, 15]"
      ]
     },
     "execution_count": 7,
     "metadata": {},
     "output_type": "execute_result"
    }
   ],
   "source": [
    "list(map(add,l1, l2))"
   ]
  },
  {
   "cell_type": "code",
   "execution_count": 8,
   "id": "7769f8e9",
   "metadata": {},
   "outputs": [
    {
     "data": {
      "text/plain": [
       "['D', 'H', 'A', 'N', 'S', 'H', 'R', 'I']"
      ]
     },
     "execution_count": 8,
     "metadata": {},
     "output_type": "execute_result"
    }
   ],
   "source": [
    "name = \"dhanshri\"\n",
    "list(map(lambda name : name.upper(),name))"
   ]
  },
  {
   "cell_type": "code",
   "execution_count": 10,
   "id": "2ceda1a5",
   "metadata": {},
   "outputs": [],
   "source": [
    "#Reduce\n",
    "#It also takes one function as a parammter and the second paramenter is the iterable\n",
    "from functools import reduce"
   ]
  },
  {
   "cell_type": "code",
   "execution_count": 12,
   "id": "cef9673e",
   "metadata": {},
   "outputs": [],
   "source": [
    "l = [1,2,3,4,5]"
   ]
  },
  {
   "cell_type": "code",
   "execution_count": 14,
   "id": "1ef1ab89",
   "metadata": {},
   "outputs": [
    {
     "data": {
      "text/plain": [
       "15"
      ]
     },
     "execution_count": 14,
     "metadata": {},
     "output_type": "execute_result"
    }
   ],
   "source": [
    "reduce(lambda x, y : x + y,l)  #We cant take third parameter over here becouse it will not be true at every condition"
   ]
  },
  {
   "cell_type": "code",
   "execution_count": 15,
   "id": "3ba48535",
   "metadata": {},
   "outputs": [],
   "source": [
    "l = [1,2,3,4,5]"
   ]
  },
  {
   "cell_type": "code",
   "execution_count": 17,
   "id": "5a411f7b",
   "metadata": {},
   "outputs": [
    {
     "data": {
      "text/plain": [
       "5"
      ]
     },
     "execution_count": 17,
     "metadata": {},
     "output_type": "execute_result"
    }
   ],
   "source": [
    "reduce(lambda x, y : x if x > y else y,l)"
   ]
  },
  {
   "cell_type": "code",
   "execution_count": 18,
   "id": "1f158594",
   "metadata": {},
   "outputs": [],
   "source": [
    "#Filter\n"
   ]
  },
  {
   "cell_type": "code",
   "execution_count": 19,
   "id": "d60ea7e6",
   "metadata": {},
   "outputs": [],
   "source": [
    "l = [1,2,3,4,5,6]"
   ]
  },
  {
   "cell_type": "code",
   "execution_count": 20,
   "id": "e5a33c7d",
   "metadata": {},
   "outputs": [
    {
     "data": {
      "text/plain": [
       "[2, 4, 6]"
      ]
     },
     "execution_count": 20,
     "metadata": {},
     "output_type": "execute_result"
    }
   ],
   "source": [
    "list(filter(lambda x : x % 2 == 0,l))"
   ]
  },
  {
   "cell_type": "code",
   "execution_count": 24,
   "id": "06f00f46",
   "metadata": {},
   "outputs": [
    {
     "data": {
      "text/plain": [
       "[-6, -8, -4]"
      ]
     },
     "execution_count": 24,
     "metadata": {},
     "output_type": "execute_result"
    }
   ],
   "source": [
    "#Lets write a filter to display negative numbers\n",
    "l = [1,-6,4,-8,-4,]\n",
    "list(filter(lambda x : x < 0,l))"
   ]
  },
  {
   "cell_type": "code",
   "execution_count": 28,
   "id": "e826f96e",
   "metadata": {},
   "outputs": [],
   "source": [
    "l1 = [\"Dhanshri\",\"chaudhari\",\"Pranil\"]"
   ]
  },
  {
   "cell_type": "code",
   "execution_count": 29,
   "id": "b13a2f63",
   "metadata": {},
   "outputs": [
    {
     "data": {
      "text/plain": [
       "['Pranil']"
      ]
     },
     "execution_count": 29,
     "metadata": {},
     "output_type": "execute_result"
    }
   ],
   "source": [
    "list(filter(lambda x : len(x) <= 6 , l1))"
   ]
  },
  {
   "cell_type": "code",
   "execution_count": 37,
   "id": "6d4fca84",
   "metadata": {},
   "outputs": [
    {
     "data": {
      "text/plain": [
       "(1, 2, 3, 4, 5, 6, 7, 8, 9, 10)"
      ]
     },
     "execution_count": 37,
     "metadata": {},
     "output_type": "execute_result"
    }
   ],
   "source": [
    "# Write a python program to convert the given list of integers into a tuple of strings. Use map and\n",
    "#lambda functions\n",
    "#Given String: [1, 2, 3, 4, 5, 6, 7, 8, 9, 10]\n",
    "l2 = [1, 2, 3, 4, 5, 6, 7, 8, 9, 10]\n",
    "tuple(filter(lambda x : str(x),l2))"
   ]
  },
  {
   "cell_type": "code",
   "execution_count": 41,
   "id": "feddcf95",
   "metadata": {},
   "outputs": [
    {
     "data": {
      "text/plain": [
       "['php', 'aba', 'radar', 'level']"
      ]
     },
     "execution_count": 41,
     "metadata": {},
     "output_type": "execute_result"
    }
   ],
   "source": [
    "#Write a python program to find palindromes in the given list of strings using lambda and filter\n",
    "#function.\n",
    "l3 = ['python', 'php', 'aba', 'radar', 'level']\n",
    "list(filter(lambda x : x if x == x[::-1] else 0,l3))"
   ]
  },
  {
   "cell_type": "code",
   "execution_count": 42,
   "id": "739a5817",
   "metadata": {},
   "outputs": [
    {
     "data": {
      "text/plain": [
       "[6, 60, 90, 120]"
      ]
     },
     "execution_count": 42,
     "metadata": {},
     "output_type": "execute_result"
    }
   ],
   "source": [
    "#Write a python program to filter the numbers in a given list that are divisible by 2 and 3 using the\n",
    "#filter function.\n",
    "#given list : [2, 3, 6, 9, 27, 60, 90, 120, 55, 46]\n",
    "l4 = [2, 3, 6, 9, 27, 60, 90, 120, 55, 46]\n",
    "list(filter(lambda x : x if x % 2 == 0 and x % 3 == 0 else 0, l4))"
   ]
  }
 ],
 "metadata": {
  "kernelspec": {
   "display_name": "Python 3 (ipykernel)",
   "language": "python",
   "name": "python3"
  },
  "language_info": {
   "codemirror_mode": {
    "name": "ipython",
    "version": 3
   },
   "file_extension": ".py",
   "mimetype": "text/x-python",
   "name": "python",
   "nbconvert_exporter": "python",
   "pygments_lexer": "ipython3",
   "version": "3.11.3"
  }
 },
 "nbformat": 4,
 "nbformat_minor": 5
}
