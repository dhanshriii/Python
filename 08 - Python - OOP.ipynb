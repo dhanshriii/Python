{
 "cells": [
  {
   "cell_type": "markdown",
   "id": "3416e934",
   "metadata": {},
   "source": [
    "## Object Oriented Programmimg\n",
    "### Class\n",
    "###### A class is a user-defined blueprint or prototype from which objects are created. Classes provide a means of bundling data and functionality together.\n",
    "### Object\n",
    "###### An Object is an instance of a Class.When an object of a class is created, the class is said to be instantiated. All the instances share the attributes and the behavior of the class. But the values of those attributes, i.e. the state are unique for each object. A single class may have any number of instances.\n",
    "\n"
   ]
  },
  {
   "cell_type": "code",
   "execution_count": 6,
   "id": "913afdc6",
   "metadata": {},
   "outputs": [],
   "source": [
    "#Creating a class\n",
    "class first:\n",
    "    def welcome(self):\n",
    "        print(\"Hello world\")\n",
    "        "
   ]
  },
  {
   "cell_type": "code",
   "execution_count": 7,
   "id": "65649df0",
   "metadata": {},
   "outputs": [],
   "source": [
    "a = first()"
   ]
  },
  {
   "cell_type": "code",
   "execution_count": 10,
   "id": "a5284037",
   "metadata": {},
   "outputs": [
    {
     "name": "stdout",
     "output_type": "stream",
     "text": [
      "Hello world\n"
     ]
    }
   ],
   "source": [
    "a.welcome()"
   ]
  },
  {
   "cell_type": "code",
   "execution_count": 11,
   "id": "947a2bef",
   "metadata": {},
   "outputs": [],
   "source": [
    "#Passing arguments to the object\n",
    "#We will be using a inbuilt function __init__()\n",
    "#This is also know as a contructor\n",
    "class Dhanshri :\n",
    "    \n",
    "    def __init__(self, name):\n",
    "        self.name = name\n",
    "        print(\"Hello\",name)"
   ]
  },
  {
   "cell_type": "code",
   "execution_count": 13,
   "id": "a3b50795",
   "metadata": {},
   "outputs": [
    {
     "name": "stdout",
     "output_type": "stream",
     "text": [
      "Hello Dhanshri\n"
     ]
    }
   ],
   "source": [
    "a = Dhanshri('Dhanshri')"
   ]
  },
  {
   "cell_type": "code",
   "execution_count": 20,
   "id": "1e24f742",
   "metadata": {},
   "outputs": [],
   "source": [
    "class second:\n",
    "    \n",
    "    def __init__(self, phn_no, email, std_id):\n",
    "        self.phn_no = phn_no\n",
    "        self.email = email\n",
    "        self.std_id = std_id\n",
    "        #self is binding the variable to the class\n",
    "        #The varibale with c\n",
    "        #__init__ take object specfied data\n",
    "        #Note self is not reserved keyword or compulsory to use we can use any variable instead of it\n",
    "        \n",
    "    def return_info(self):\n",
    "        return self.phn_no, self.email, self. std_id\n",
    "    #Without self we cannot access the variables so, we have to write self infront of varibale"
   ]
  },
  {
   "cell_type": "code",
   "execution_count": 21,
   "id": "9d8d3b54",
   "metadata": {},
   "outputs": [],
   "source": [
    "a = second(12345678765, \"dhanshri2gmail.com\", 1)"
   ]
  },
  {
   "cell_type": "code",
   "execution_count": 22,
   "id": "29ba116c",
   "metadata": {},
   "outputs": [
    {
     "data": {
      "text/plain": [
       "(12345678765, 'dhanshri2gmail.com', 1)"
      ]
     },
     "execution_count": 22,
     "metadata": {},
     "output_type": "execute_result"
    }
   ],
   "source": [
    "a.return_info()"
   ]
  },
  {
   "cell_type": "code",
   "execution_count": 23,
   "id": "ba20771c",
   "metadata": {},
   "outputs": [
    {
     "data": {
      "text/plain": [
       "'dhanshri2gmail.com'"
      ]
     },
     "execution_count": 23,
     "metadata": {},
     "output_type": "execute_result"
    }
   ],
   "source": [
    "a.email"
   ]
  },
  {
   "cell_type": "code",
   "execution_count": 4,
   "id": "fd09a28a",
   "metadata": {},
   "outputs": [],
   "source": [
    "class Human :\n",
    "    def __init__(self, n, o):\n",
    "        self.name = n\n",
    "        self.occupation = o\n",
    "        \n",
    "    def do_work(self):\n",
    "        if self.occupation == \"tennis player\":\n",
    "            print(self.name,\" Playes tennis\")\n",
    "        elif self.occupation == \"actor\":\n",
    "            print(self.name,\" shoots film\")\n",
    "        \n",
    "    def speaks(self):\n",
    "        print(self.name, \"says how are you?\")\n",
    "        \n",
    "\n",
    "            "
   ]
  },
  {
   "cell_type": "code",
   "execution_count": 5,
   "id": "27e13cb9",
   "metadata": {},
   "outputs": [
    {
     "name": "stdout",
     "output_type": "stream",
     "text": [
      "tom_cruise  shoots film\n"
     ]
    }
   ],
   "source": [
    "tom = Human(\"tom_cruise\",\"actor\")\n",
    "tom.do_work()"
   ]
  },
  {
   "cell_type": "code",
   "execution_count": 6,
   "id": "8aa75f60",
   "metadata": {},
   "outputs": [
    {
     "name": "stdout",
     "output_type": "stream",
     "text": [
      "tom_cruise says how are you?\n"
     ]
    }
   ],
   "source": [
    "tom.speaks()"
   ]
  },
  {
   "cell_type": "markdown",
   "id": "a1a79ceb",
   "metadata": {},
   "source": [
    "## There are Four main pillars of OOP \n",
    "#### 1) Polymorphism\n",
    "#### 2) Inheritance\n",
    "#### 3) Abstraction\n",
    "#### 4) Encapsulation"
   ]
  },
  {
   "cell_type": "markdown",
   "id": "21d7b8a7",
   "metadata": {},
   "source": [
    "## 1) Polymorphism "
   ]
  },
  {
   "cell_type": "code",
   "execution_count": 1,
   "id": "7fd3a483",
   "metadata": {},
   "outputs": [],
   "source": [
    "#Different behavior of a single entity\n"
   ]
  },
  {
   "cell_type": "code",
   "execution_count": 2,
   "id": "ba5ab9e4",
   "metadata": {},
   "outputs": [],
   "source": [
    "#Lets see one example\n",
    "def test(a,b):\n",
    "    return a + b\n"
   ]
  },
  {
   "cell_type": "code",
   "execution_count": 3,
   "id": "28987e47",
   "metadata": {},
   "outputs": [
    {
     "data": {
      "text/plain": [
       "9"
      ]
     },
     "execution_count": 3,
     "metadata": {},
     "output_type": "execute_result"
    }
   ],
   "source": [
    "test(4, 5) #This will do addition of 2 numbers"
   ]
  },
  {
   "cell_type": "code",
   "execution_count": 5,
   "id": "a08cb58d",
   "metadata": {},
   "outputs": [
    {
     "data": {
      "text/plain": [
       "'Dhanshri Chaudhari'"
      ]
     },
     "execution_count": 5,
     "metadata": {},
     "output_type": "execute_result"
    }
   ],
   "source": [
    "test(\"Dhanshri\", \" Chaudhari\") #This will conatinate two strings"
   ]
  },
  {
   "cell_type": "code",
   "execution_count": 6,
   "id": "8ebcf881",
   "metadata": {},
   "outputs": [
    {
     "data": {
      "text/plain": [
       "[1, 2, 3, 4, 5, 6, 7, 8]"
      ]
     },
     "execution_count": 6,
     "metadata": {},
     "output_type": "execute_result"
    }
   ],
   "source": [
    "#Now if we pass two list\n",
    "test([1,2,3,4], [5,6,7,8])  #this will append or contatinate these two list in a single list"
   ]
  },
  {
   "cell_type": "code",
   "execution_count": 1,
   "id": "d895b263",
   "metadata": {},
   "outputs": [],
   "source": [
    "class data_science:\n",
    "    \n",
    "    def syllabus(self):\n",
    "        print(\"this is syllabus for data science\")"
   ]
  },
  {
   "cell_type": "code",
   "execution_count": 2,
   "id": "a2bbaec7",
   "metadata": {},
   "outputs": [],
   "source": [
    "class web_dev:\n",
    "    \n",
    "    def syllabus(self):\n",
    "        print(\"this is syllabus for web_dev\")"
   ]
  },
  {
   "cell_type": "code",
   "execution_count": 4,
   "id": "b0090f12",
   "metadata": {},
   "outputs": [],
   "source": [
    "def class_parcer(class_obj):\n",
    "    for i in class_obj:\n",
    "        i.syllabus()"
   ]
  },
  {
   "cell_type": "code",
   "execution_count": 5,
   "id": "232613b3",
   "metadata": {},
   "outputs": [],
   "source": [
    "data_science = data_science()"
   ]
  },
  {
   "cell_type": "code",
   "execution_count": 6,
   "id": "3c83ec19",
   "metadata": {},
   "outputs": [],
   "source": [
    "web_dev = web_dev()"
   ]
  },
  {
   "cell_type": "code",
   "execution_count": 7,
   "id": "6deab71b",
   "metadata": {},
   "outputs": [],
   "source": [
    "class_obj = [data_science, web_dev]"
   ]
  },
  {
   "cell_type": "code",
   "execution_count": 8,
   "id": "d12c82c8",
   "metadata": {},
   "outputs": [
    {
     "name": "stdout",
     "output_type": "stream",
     "text": [
      "this is syllabus for data science\n",
      "this is syllabus for web_dev\n"
     ]
    }
   ],
   "source": [
    "class_parcer(class_obj) #This is taking a list as a input and then parsing it and giving the output\n",
    "#Here the function syllabus() behaves different in both the classes"
   ]
  },
  {
   "cell_type": "markdown",
   "id": "b9f8139b",
   "metadata": {},
   "source": [
    "## 2) Encapsulation"
   ]
  },
  {
   "cell_type": "code",
   "execution_count": 9,
   "id": "341f8679",
   "metadata": {},
   "outputs": [],
   "source": [
    "class test :\n",
    "    def __init__(self, a, b) :\n",
    "        self.a = a\n",
    "        self.b = b\n",
    "        "
   ]
  },
  {
   "cell_type": "code",
   "execution_count": 10,
   "id": "8342b3bd",
   "metadata": {},
   "outputs": [],
   "source": [
    "t = test(23, 34)"
   ]
  },
  {
   "cell_type": "code",
   "execution_count": 11,
   "id": "0be6a1f5",
   "metadata": {},
   "outputs": [],
   "source": [
    "t.a = 2345"
   ]
  },
  {
   "cell_type": "code",
   "execution_count": 12,
   "id": "eff54170",
   "metadata": {},
   "outputs": [
    {
     "data": {
      "text/plain": [
       "2345"
      ]
     },
     "execution_count": 12,
     "metadata": {},
     "output_type": "execute_result"
    }
   ],
   "source": [
    "t.a   #The modified value gets displayes"
   ]
  },
  {
   "cell_type": "code",
   "execution_count": 13,
   "id": "9230b110",
   "metadata": {},
   "outputs": [],
   "source": [
    "#We we dont want to the user to see the internal structure so that he should not be able to modify it\n",
    "#The same is done by the concept of Encapsulation\n",
    "#it will act as a capsule or a wrap \n",
    "#Lets see how to do that\n",
    "class car:\n",
    "    def __init__(self, year, make, model, speed):\n",
    "        self.__year = year    #Doble underscore makes sure that this is hidden from the user\n",
    "        self.__make = make\n",
    "        self.__model = model\n",
    "        self.speed = 0\n"
   ]
  },
  {
   "cell_type": "code",
   "execution_count": 3,
   "id": "f64f8fe8",
   "metadata": {},
   "outputs": [],
   "source": [
    "c = car(2021,\"Toyota\",\"Innova\",12)"
   ]
  },
  {
   "cell_type": "code",
   "execution_count": 15,
   "id": "e5bba239",
   "metadata": {},
   "outputs": [
    {
     "ename": "AttributeError",
     "evalue": "'car' object has no attribute 'year'",
     "output_type": "error",
     "traceback": [
      "\u001b[1;31m---------------------------------------------------------------------------\u001b[0m",
      "\u001b[1;31mAttributeError\u001b[0m                            Traceback (most recent call last)",
      "Cell \u001b[1;32mIn[15], line 1\u001b[0m\n\u001b[1;32m----> 1\u001b[0m c\u001b[38;5;241m.\u001b[39myear\n",
      "\u001b[1;31mAttributeError\u001b[0m: 'car' object has no attribute 'year'"
     ]
    }
   ],
   "source": [
    "c.year\n",
    "#this will give the error as we have made it private"
   ]
  },
  {
   "cell_type": "code",
   "execution_count": 16,
   "id": "005ebf43",
   "metadata": {},
   "outputs": [
    {
     "data": {
      "text/plain": [
       "2021"
      ]
     },
     "execution_count": 16,
     "metadata": {},
     "output_type": "execute_result"
    }
   ],
   "source": [
    "#To access it we can use class name\n",
    "c._car__year"
   ]
  },
  {
   "cell_type": "code",
   "execution_count": 2,
   "id": "e0d8faf5",
   "metadata": {},
   "outputs": [],
   "source": [
    "#Now to access these variables using a method or a function \n",
    "class car:\n",
    "    def __init__(self, year, make, model, speed):\n",
    "        self.__year = year    #Doble underscore makes sure that this is hidden from the user\n",
    "        self.__make = make    #Makes the data private\n",
    "        self.__model = model\n",
    "        self.speed = 0\n",
    "        \n",
    "    def set_speed(self, speed):    #Here this method is not private so we can access it or invoke it\n",
    "        self.__speed = 0 if speed < 0 else speed\n",
    "        \n",
    "    def get_speed(self):\n",
    "        return self.__speed"
   ]
  },
  {
   "cell_type": "code",
   "execution_count": 5,
   "id": "42b0a17e",
   "metadata": {},
   "outputs": [],
   "source": [
    "#We can access the data using object and function name\n",
    "c.set_speed(234)"
   ]
  },
  {
   "cell_type": "code",
   "execution_count": 6,
   "id": "8b4fe983",
   "metadata": {},
   "outputs": [
    {
     "data": {
      "text/plain": [
       "234"
      ]
     },
     "execution_count": 6,
     "metadata": {},
     "output_type": "execute_result"
    }
   ],
   "source": [
    "c.get_speed()"
   ]
  },
  {
   "cell_type": "code",
   "execution_count": 15,
   "id": "7e175f04",
   "metadata": {},
   "outputs": [],
   "source": [
    "class bank_account :\n",
    "    def __init__(self, balance):\n",
    "        self.__balance = balance\n",
    "        \n",
    "    def deposite(self, amount):\n",
    "        self.__balance = self.__balance + amount\n",
    "            \n",
    "    def withdraw(self, amount):\n",
    "        if self.__balance >= amount:\n",
    "            self.__balance = self.__balance - amount\n",
    "            return True\n",
    "        else :\n",
    "            return False\n",
    "            \n",
    "    def get_balance(self):\n",
    "        return self.__balance"
   ]
  },
  {
   "cell_type": "code",
   "execution_count": 16,
   "id": "b10079ed",
   "metadata": {},
   "outputs": [],
   "source": [
    "Dhanshri = bank_account(5000) "
   ]
  },
  {
   "cell_type": "code",
   "execution_count": 17,
   "id": "8f8c9f3a",
   "metadata": {},
   "outputs": [],
   "source": [
    "Dhanshri.deposite(200)"
   ]
  },
  {
   "cell_type": "code",
   "execution_count": 19,
   "id": "92e81cc8",
   "metadata": {},
   "outputs": [
    {
     "data": {
      "text/plain": [
       "5200"
      ]
     },
     "execution_count": 19,
     "metadata": {},
     "output_type": "execute_result"
    }
   ],
   "source": [
    "Dhanshri.get_balance()"
   ]
  },
  {
   "cell_type": "code",
   "execution_count": 20,
   "id": "b0509aea",
   "metadata": {},
   "outputs": [
    {
     "data": {
      "text/plain": [
       "True"
      ]
     },
     "execution_count": 20,
     "metadata": {},
     "output_type": "execute_result"
    }
   ],
   "source": [
    "Dhanshri.withdraw(100)"
   ]
  },
  {
   "cell_type": "code",
   "execution_count": 21,
   "id": "4d3415ac",
   "metadata": {},
   "outputs": [
    {
     "data": {
      "text/plain": [
       "5100"
      ]
     },
     "execution_count": 21,
     "metadata": {},
     "output_type": "execute_result"
    }
   ],
   "source": [
    "Dhanshri.get_balance()  #We ant access the baance variable directly but access it through the function as the function is not private "
   ]
  },
  {
   "cell_type": "markdown",
   "id": "2cd76a25",
   "metadata": {},
   "source": [
    "## 3) Inheritance "
   ]
  },
  {
   "cell_type": "code",
   "execution_count": 22,
   "id": "f6a97a45",
   "metadata": {},
   "outputs": [],
   "source": [
    "#Reusing the properties of one class in another class by parent class and child class\n",
    "#Parent class properties get inherited in child class\n",
    "class test:\n",
    "    def test_math(self):\n",
    "        return \"this is my first class\""
   ]
  },
  {
   "cell_type": "code",
   "execution_count": 23,
   "id": "2ba7e9e6",
   "metadata": {},
   "outputs": [],
   "source": [
    "class child_test(test):   #We are passing the 'test' class as a argument \n",
    "                            #This is a child class\n",
    "    pass"
   ]
  },
  {
   "cell_type": "code",
   "execution_count": 24,
   "id": "1d22d2c8",
   "metadata": {},
   "outputs": [],
   "source": [
    "child_test_obj = child_test()   #We have made a child class object "
   ]
  },
  {
   "cell_type": "code",
   "execution_count": 25,
   "id": "14cd8ebb",
   "metadata": {},
   "outputs": [
    {
     "data": {
      "text/plain": [
       "'this is my first class'"
      ]
     },
     "execution_count": 25,
     "metadata": {},
     "output_type": "execute_result"
    }
   ],
   "source": [
    "child_test_obj.test_math()      #We are calling a parent class function using child class object"
   ]
  },
  {
   "cell_type": "markdown",
   "id": "10584072",
   "metadata": {},
   "source": [
    "### There are different types of Inheritance\n",
    "#### 1) Multilevel Inheritance"
   ]
  },
  {
   "cell_type": "code",
   "execution_count": 26,
   "id": "3ba3fae2",
   "metadata": {},
   "outputs": [],
   "source": [
    "#Example\n",
    "class class1:\n",
    "    \n",
    "    def test_class1(self):\n",
    "        return \"this is a code for class1\""
   ]
  },
  {
   "cell_type": "code",
   "execution_count": 37,
   "id": "f23e98e3",
   "metadata": {},
   "outputs": [],
   "source": [
    "class class2(class1):\n",
    "    \n",
    "    def test_class2(self):\n",
    "        return \"this is a code for class2\""
   ]
  },
  {
   "cell_type": "code",
   "execution_count": 38,
   "id": "5e7d8e66",
   "metadata": {},
   "outputs": [],
   "source": [
    "class class3(class2):\n",
    "    \n",
    "    def test_class3(self):\n",
    "        return \"this is a code for class3\""
   ]
  },
  {
   "cell_type": "code",
   "execution_count": 39,
   "id": "636d90ff",
   "metadata": {},
   "outputs": [],
   "source": [
    "#Create a object for class3\n",
    "obj_class3 = class3()"
   ]
  },
  {
   "cell_type": "code",
   "execution_count": 40,
   "id": "a8915b65",
   "metadata": {},
   "outputs": [
    {
     "data": {
      "text/plain": [
       "'this is a code for class2'"
      ]
     },
     "execution_count": 40,
     "metadata": {},
     "output_type": "execute_result"
    }
   ],
   "source": [
    "obj_class3.test_class2()"
   ]
  },
  {
   "cell_type": "code",
   "execution_count": 41,
   "id": "37075727",
   "metadata": {},
   "outputs": [
    {
     "data": {
      "text/plain": [
       "'this is a code for class1'"
      ]
     },
     "execution_count": 41,
     "metadata": {},
     "output_type": "execute_result"
    }
   ],
   "source": [
    "obj_class3.test_class1()"
   ]
  },
  {
   "cell_type": "markdown",
   "id": "fb8d7677",
   "metadata": {},
   "source": [
    "#### 2) Multiple Inheritance "
   ]
  },
  {
   "cell_type": "code",
   "execution_count": 42,
   "id": "c0bfec27",
   "metadata": {},
   "outputs": [],
   "source": [
    "#Example\n",
    "class class1:\n",
    "    \n",
    "    def test_class1(self):\n",
    "        return \"This is class one\""
   ]
  },
  {
   "cell_type": "code",
   "execution_count": 43,
   "id": "26c76c87",
   "metadata": {},
   "outputs": [],
   "source": [
    "class class2:\n",
    "    \n",
    "    def test_class2(self):\n",
    "        return \"This is class two\""
   ]
  },
  {
   "cell_type": "code",
   "execution_count": 44,
   "id": "a25ab5e1",
   "metadata": {},
   "outputs": [],
   "source": [
    "class class3(class1, class2):   #Inherited the above 2 class in class3\n",
    "    pass"
   ]
  },
  {
   "cell_type": "code",
   "execution_count": 45,
   "id": "450559ef",
   "metadata": {},
   "outputs": [],
   "source": [
    "obj_class3 = class3() #Creating object of class3"
   ]
  },
  {
   "cell_type": "code",
   "execution_count": 46,
   "id": "4b29780e",
   "metadata": {},
   "outputs": [
    {
     "data": {
      "text/plain": [
       "'This is class one'"
      ]
     },
     "execution_count": 46,
     "metadata": {},
     "output_type": "execute_result"
    }
   ],
   "source": [
    "obj_class3.test_class1()   #Accessing class1 function using class3 object"
   ]
  },
  {
   "cell_type": "code",
   "execution_count": 47,
   "id": "3a8e0f72",
   "metadata": {},
   "outputs": [
    {
     "data": {
      "text/plain": [
       "'This is class two'"
      ]
     },
     "execution_count": 47,
     "metadata": {},
     "output_type": "execute_result"
    }
   ],
   "source": [
    "obj_class3.test_class2()    #Accessing class2 function using class3 object"
   ]
  },
  {
   "cell_type": "code",
   "execution_count": 19,
   "id": "bcd68631",
   "metadata": {},
   "outputs": [],
   "source": [
    "#Example 2\n",
    "class Father():                   #Parent class 1\n",
    "    def skills(self): \n",
    "        print(\"I like gardening, programming\")\n",
    "        \n",
    "class Mother():                   #Parent class 2\n",
    "    def skills(self):\n",
    "        print(\"I lke cooking, art\")\n",
    "        \n",
    "class Child(Father, Mother):      #Child class derived from Father and Mother\n",
    "    def skills(self):\n",
    "        Father.skills(self)    #Classing with respect to class name\n",
    "        Mother.skills(self)\n",
    "        print(\"I like sports\")"
   ]
  },
  {
   "cell_type": "code",
   "execution_count": 20,
   "id": "4aa7d3f1",
   "metadata": {},
   "outputs": [],
   "source": [
    "c = Child()"
   ]
  },
  {
   "cell_type": "code",
   "execution_count": 21,
   "id": "3fe1caa1",
   "metadata": {},
   "outputs": [
    {
     "name": "stdout",
     "output_type": "stream",
     "text": [
      "I like gardening, programming\n",
      "I lke cooking, art\n",
      "I like sports\n"
     ]
    }
   ],
   "source": [
    "c.skills()  #Calling with respect to objet"
   ]
  },
  {
   "cell_type": "markdown",
   "id": "0da2af55",
   "metadata": {},
   "source": [
    "#### 3) Herachical Inheritance"
   ]
  },
  {
   "cell_type": "code",
   "execution_count": 8,
   "id": "3168d5bc",
   "metadata": {},
   "outputs": [],
   "source": [
    "class Vehical:\n",
    "    def general_usage(self):\n",
    "        print(\"General use: transformation\")\n",
    "        \n",
    "class Car(Vehical):\n",
    "    def __init__(self):\n",
    "        print(\"I'm car\") \n",
    "        self.wheels = 4\n",
    "        self.has_roof = True\n",
    "        \n",
    "    def specific_usage(self):\n",
    "        self.general_usage()\n",
    "        print(\"Specific use: commute to work, vacation with family\")\n",
    "        \n",
    "class MotorCycle(Vehical):\n",
    "    def __init__(self):\n",
    "        print(\"I'm a MotorCycle\")\n",
    "        self.wheels = 2\n",
    "        self.hasroof = False\n",
    "        \n",
    "    def specific_usage(self):\n",
    "        self.general_usage()\n",
    "        print(\"Specific use : commute to work, drive with friends\")"
   ]
  },
  {
   "cell_type": "code",
   "execution_count": 11,
   "id": "45eca5b3",
   "metadata": {},
   "outputs": [
    {
     "name": "stdout",
     "output_type": "stream",
     "text": [
      "I'm car\n",
      "I'm a MotorCycle\n",
      "General use: transformation\n",
      "Specific use: commute to work, vacation with family\n",
      "General use: transformation\n",
      "Specific use : commute to work, drive with friends\n"
     ]
    }
   ],
   "source": [
    "c = Car()\n",
    "m = MotorCycle()\n",
    "c.specific_usage()\n",
    "m.specific_usage()"
   ]
  },
  {
   "cell_type": "code",
   "execution_count": 14,
   "id": "ba84d316",
   "metadata": {},
   "outputs": [
    {
     "name": "stdout",
     "output_type": "stream",
     "text": [
      "True\n"
     ]
    }
   ],
   "source": [
    "#To check whether a class is a subclass or not of a specific class  \n",
    "print(issubclass(Car, Vehical)) #Car is Subclass or Child class of Vehical"
   ]
  },
  {
   "cell_type": "markdown",
   "id": "24df90c4",
   "metadata": {},
   "source": [
    "## 4) Abstraction "
   ]
  },
  {
   "cell_type": "code",
   "execution_count": 49,
   "id": "8ba1605e",
   "metadata": {},
   "outputs": [],
   "source": [
    "#Data abstraction is one of the most essential concepts of Python OOPs which is \n",
    "#used to hide irrelevant details from the user and show the details that are relevant to the users.\n",
    "#The class which have abstarct function are known as abstarct classes\n",
    "\n",
    "import abc\n",
    "class pwskills:\n",
    "    @abc.abstractmethod\n",
    "    def students_details(self):\n",
    "        pass\n",
    "    @abc.abstractmethod\n",
    "    def student_assignment(self):\n",
    "        pass\n",
    "    @abc.abstractmethod\n",
    "    def student_marks(self):\n",
    "        pass\n",
    "    \n",
    "    "
   ]
  },
  {
   "cell_type": "code",
   "execution_count": 50,
   "id": "9be8fa60",
   "metadata": {},
   "outputs": [],
   "source": [
    "class student_details(pwskills):\n",
    "    \n",
    "    def student_details(self):\n",
    "        return \"this is a method for taking student details\"\n",
    "    \n",
    "    def student_assignment(self):\n",
    "        return \"this is a method for assigning details for a particular student\""
   ]
  },
  {
   "cell_type": "code",
   "execution_count": 51,
   "id": "2d9123fc",
   "metadata": {},
   "outputs": [],
   "source": [
    "class data_science_masters(pwskills):\n",
    "    \n",
    "    def students_details(self):\n",
    "        return \"this will return a student detilas for data science masters\"\n",
    "    \n",
    "    def student_assignment(self):\n",
    "        return \"this will give you a student assignment detail for data scinece masters\""
   ]
  },
  {
   "cell_type": "code",
   "execution_count": 52,
   "id": "9bb1c926",
   "metadata": {},
   "outputs": [],
   "source": [
    "dsm = data_science_masters()  #Object creation"
   ]
  },
  {
   "cell_type": "code",
   "execution_count": 53,
   "id": "baf2965f",
   "metadata": {},
   "outputs": [
    {
     "data": {
      "text/plain": [
       "'this will return a student detilas for data science masters'"
      ]
     },
     "execution_count": 53,
     "metadata": {},
     "output_type": "execute_result"
    }
   ],
   "source": [
    "dsm.students_details()"
   ]
  }
 ],
 "metadata": {
  "kernelspec": {
   "display_name": "Python 3 (ipykernel)",
   "language": "python",
   "name": "python3"
  },
  "language_info": {
   "codemirror_mode": {
    "name": "ipython",
    "version": 3
   },
   "file_extension": ".py",
   "mimetype": "text/x-python",
   "name": "python",
   "nbconvert_exporter": "python",
   "pygments_lexer": "ipython3",
   "version": "3.11.3"
  }
 },
 "nbformat": 4,
 "nbformat_minor": 5
}
